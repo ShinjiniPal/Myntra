{
 "cells": [
  {
   "cell_type": "code",
   "execution_count": 96,
   "id": "dc1ce172",
   "metadata": {},
   "outputs": [],
   "source": [
    "# Importing necessary libraries\n",
    "import pandas as pd  # Pandas for data manipulation and analysis\n",
    "import numpy as np  # NumPy for numerical operations\n",
    "\n",
    "%matplotlib inline\n",
    "\n",
    "# Data visualization libraries\n",
    "import matplotlib.pyplot as plt  # Matplotlib for basic plotting\n",
    "import seaborn as sns  # Seaborn for statistical data visualization\n",
    "\n",
    "# Machine learning libraries\n",
    "from sklearn.model_selection import train_test_split  # Splitting data into training and testing sets\n",
    "from sklearn.linear_model import LinearRegression  # Linear Regression model\n",
    "from sklearn.ensemble import RandomForestRegressor  # Random Forest Regressor model\n",
    "from sklearn.metrics import mean_squared_error  # Metric for model evaluation\n",
    "\n",
    "# Ignore warnings for cleaner output\n",
    "import warnings\n",
    "warnings.filterwarnings(\"ignore\")"
   ]
  },
  {
   "cell_type": "code",
   "execution_count": 97,
   "id": "52442d28",
   "metadata": {},
   "outputs": [
    {
     "data": {
      "text/html": [
       "<div>\n",
       "<style scoped>\n",
       "    .dataframe tbody tr th:only-of-type {\n",
       "        vertical-align: middle;\n",
       "    }\n",
       "\n",
       "    .dataframe tbody tr th {\n",
       "        vertical-align: top;\n",
       "    }\n",
       "\n",
       "    .dataframe thead th {\n",
       "        text-align: right;\n",
       "    }\n",
       "</style>\n",
       "<table border=\"1\" class=\"dataframe\">\n",
       "  <thead>\n",
       "    <tr style=\"text-align: right;\">\n",
       "      <th></th>\n",
       "      <th>URL</th>\n",
       "      <th>Product_id</th>\n",
       "      <th>BrandName</th>\n",
       "      <th>Category</th>\n",
       "      <th>Individual_category</th>\n",
       "      <th>category_by_Gender</th>\n",
       "      <th>Description</th>\n",
       "      <th>DiscountPrice (in Rs)</th>\n",
       "      <th>OriginalPrice (in Rs)</th>\n",
       "      <th>DiscountOffer</th>\n",
       "      <th>SizeOption</th>\n",
       "      <th>Ratings</th>\n",
       "      <th>Reviews</th>\n",
       "    </tr>\n",
       "  </thead>\n",
       "  <tbody>\n",
       "    <tr>\n",
       "      <th>0</th>\n",
       "      <td>https://www.myntra.com/jeans/roadster/roadster...</td>\n",
       "      <td>2296012</td>\n",
       "      <td>Roadster</td>\n",
       "      <td>Bottom Wear</td>\n",
       "      <td>jeans</td>\n",
       "      <td>Men</td>\n",
       "      <td>roadster men navy blue slim fit mid rise clean...</td>\n",
       "      <td>824.0</td>\n",
       "      <td>1499.0</td>\n",
       "      <td>45% OFF</td>\n",
       "      <td>28, 30, 32, 34, 36</td>\n",
       "      <td>3.9</td>\n",
       "      <td>999.0</td>\n",
       "    </tr>\n",
       "    <tr>\n",
       "      <th>1</th>\n",
       "      <td>https://www.myntra.com/track-pants/locomotive/...</td>\n",
       "      <td>13780156</td>\n",
       "      <td>LOCOMOTIVE</td>\n",
       "      <td>Bottom Wear</td>\n",
       "      <td>track-pants</td>\n",
       "      <td>Men</td>\n",
       "      <td>locomotive men black  white solid slim fit tra...</td>\n",
       "      <td>517.0</td>\n",
       "      <td>1149.0</td>\n",
       "      <td>55% OFF</td>\n",
       "      <td>S, M, L, XL</td>\n",
       "      <td>4.0</td>\n",
       "      <td>999.0</td>\n",
       "    </tr>\n",
       "    <tr>\n",
       "      <th>2</th>\n",
       "      <td>https://www.myntra.com/shirts/roadster/roadste...</td>\n",
       "      <td>11895958</td>\n",
       "      <td>Roadster</td>\n",
       "      <td>Topwear</td>\n",
       "      <td>shirts</td>\n",
       "      <td>Men</td>\n",
       "      <td>roadster men navy white  black geometric print...</td>\n",
       "      <td>629.0</td>\n",
       "      <td>1399.0</td>\n",
       "      <td>55% OFF</td>\n",
       "      <td>38, 40, 42, 44, 46, 48</td>\n",
       "      <td>4.3</td>\n",
       "      <td>999.0</td>\n",
       "    </tr>\n",
       "    <tr>\n",
       "      <th>3</th>\n",
       "      <td>https://www.myntra.com/shapewear/zivame/zivame...</td>\n",
       "      <td>4335679</td>\n",
       "      <td>Zivame</td>\n",
       "      <td>Lingerie &amp; Sleep Wear</td>\n",
       "      <td>shapewear</td>\n",
       "      <td>Women</td>\n",
       "      <td>zivame women black saree shapewear zi3023core0...</td>\n",
       "      <td>893.0</td>\n",
       "      <td>1295.0</td>\n",
       "      <td>31% OFF</td>\n",
       "      <td>S, M, L, XL, XXL</td>\n",
       "      <td>4.2</td>\n",
       "      <td>999.0</td>\n",
       "    </tr>\n",
       "    <tr>\n",
       "      <th>4</th>\n",
       "      <td>https://www.myntra.com/tshirts/roadster/roadst...</td>\n",
       "      <td>11690882</td>\n",
       "      <td>Roadster</td>\n",
       "      <td>Western</td>\n",
       "      <td>tshirts</td>\n",
       "      <td>Women</td>\n",
       "      <td>roadster women white solid v neck pure cotton ...</td>\n",
       "      <td>NaN</td>\n",
       "      <td>599.0</td>\n",
       "      <td>35% OFF</td>\n",
       "      <td>XS, S, M, L, XL</td>\n",
       "      <td>4.2</td>\n",
       "      <td>999.0</td>\n",
       "    </tr>\n",
       "    <tr>\n",
       "      <th>...</th>\n",
       "      <td>...</td>\n",
       "      <td>...</td>\n",
       "      <td>...</td>\n",
       "      <td>...</td>\n",
       "      <td>...</td>\n",
       "      <td>...</td>\n",
       "      <td>...</td>\n",
       "      <td>...</td>\n",
       "      <td>...</td>\n",
       "      <td>...</td>\n",
       "      <td>...</td>\n",
       "      <td>...</td>\n",
       "      <td>...</td>\n",
       "    </tr>\n",
       "    <tr>\n",
       "      <th>526559</th>\n",
       "      <td>https://www.myntra.com/sweaters/hm/hm-women-be...</td>\n",
       "      <td>16929990</td>\n",
       "      <td>H&amp;M</td>\n",
       "      <td>Western</td>\n",
       "      <td>sweaters</td>\n",
       "      <td>Women</td>\n",
       "      <td>hm women beige oversized cashmere jumper</td>\n",
       "      <td>NaN</td>\n",
       "      <td>9999.0</td>\n",
       "      <td>NaN</td>\n",
       "      <td>XS, S, M, L</td>\n",
       "      <td>NaN</td>\n",
       "      <td>NaN</td>\n",
       "    </tr>\n",
       "    <tr>\n",
       "      <th>526560</th>\n",
       "      <td>https://www.myntra.com/jackets/hm/hm-women-bla...</td>\n",
       "      <td>16026012</td>\n",
       "      <td>H&amp;M</td>\n",
       "      <td>Western</td>\n",
       "      <td>jackets</td>\n",
       "      <td>Women</td>\n",
       "      <td>hm women black water repellent parka jacket</td>\n",
       "      <td>NaN</td>\n",
       "      <td>9999.0</td>\n",
       "      <td>NaN</td>\n",
       "      <td>XS, S, M, L, XL</td>\n",
       "      <td>NaN</td>\n",
       "      <td>NaN</td>\n",
       "    </tr>\n",
       "    <tr>\n",
       "      <th>526561</th>\n",
       "      <td>https://www.myntra.com/dresses/250-designs/250...</td>\n",
       "      <td>17654114</td>\n",
       "      <td>250 DESIGNS</td>\n",
       "      <td>Western</td>\n",
       "      <td>dresses</td>\n",
       "      <td>Women</td>\n",
       "      <td>250 designs blue lace sheath dress</td>\n",
       "      <td>NaN</td>\n",
       "      <td>9999.0</td>\n",
       "      <td>NaN</td>\n",
       "      <td>S, M, L, XL, XXL</td>\n",
       "      <td>NaN</td>\n",
       "      <td>NaN</td>\n",
       "    </tr>\n",
       "    <tr>\n",
       "      <th>526562</th>\n",
       "      <td>https://www.myntra.com/dresses/masaba/masaba-w...</td>\n",
       "      <td>12508700</td>\n",
       "      <td>Masaba</td>\n",
       "      <td>Western</td>\n",
       "      <td>dresses</td>\n",
       "      <td>Women</td>\n",
       "      <td>masaba women yellow printed a line dress</td>\n",
       "      <td>NaN</td>\n",
       "      <td>9999.0</td>\n",
       "      <td>NaN</td>\n",
       "      <td>XS, S, M, L, XL</td>\n",
       "      <td>NaN</td>\n",
       "      <td>NaN</td>\n",
       "    </tr>\n",
       "    <tr>\n",
       "      <th>526563</th>\n",
       "      <td>https://www.myntra.com/tshirts/jockey/jockey-w...</td>\n",
       "      <td>17856544</td>\n",
       "      <td>Jockey</td>\n",
       "      <td>Western</td>\n",
       "      <td>tshirts</td>\n",
       "      <td>Women</td>\n",
       "      <td>jockey women blue extended sleeves t shirt</td>\n",
       "      <td>NaN</td>\n",
       "      <td>799.0</td>\n",
       "      <td>NaN</td>\n",
       "      <td>S, M, L</td>\n",
       "      <td>NaN</td>\n",
       "      <td>NaN</td>\n",
       "    </tr>\n",
       "  </tbody>\n",
       "</table>\n",
       "<p>526564 rows × 13 columns</p>\n",
       "</div>"
      ],
      "text/plain": [
       "                                                      URL  Product_id  \\\n",
       "0       https://www.myntra.com/jeans/roadster/roadster...     2296012   \n",
       "1       https://www.myntra.com/track-pants/locomotive/...    13780156   \n",
       "2       https://www.myntra.com/shirts/roadster/roadste...    11895958   \n",
       "3       https://www.myntra.com/shapewear/zivame/zivame...     4335679   \n",
       "4       https://www.myntra.com/tshirts/roadster/roadst...    11690882   \n",
       "...                                                   ...         ...   \n",
       "526559  https://www.myntra.com/sweaters/hm/hm-women-be...    16929990   \n",
       "526560  https://www.myntra.com/jackets/hm/hm-women-bla...    16026012   \n",
       "526561  https://www.myntra.com/dresses/250-designs/250...    17654114   \n",
       "526562  https://www.myntra.com/dresses/masaba/masaba-w...    12508700   \n",
       "526563  https://www.myntra.com/tshirts/jockey/jockey-w...    17856544   \n",
       "\n",
       "          BrandName               Category Individual_category  \\\n",
       "0          Roadster            Bottom Wear               jeans   \n",
       "1        LOCOMOTIVE            Bottom Wear         track-pants   \n",
       "2          Roadster                Topwear              shirts   \n",
       "3            Zivame  Lingerie & Sleep Wear           shapewear   \n",
       "4          Roadster                Western             tshirts   \n",
       "...             ...                    ...                 ...   \n",
       "526559          H&M                Western            sweaters   \n",
       "526560          H&M                Western             jackets   \n",
       "526561  250 DESIGNS                Western             dresses   \n",
       "526562       Masaba                Western             dresses   \n",
       "526563       Jockey                Western             tshirts   \n",
       "\n",
       "       category_by_Gender                                        Description  \\\n",
       "0                     Men  roadster men navy blue slim fit mid rise clean...   \n",
       "1                     Men  locomotive men black  white solid slim fit tra...   \n",
       "2                     Men  roadster men navy white  black geometric print...   \n",
       "3                   Women  zivame women black saree shapewear zi3023core0...   \n",
       "4                   Women  roadster women white solid v neck pure cotton ...   \n",
       "...                   ...                                                ...   \n",
       "526559              Women           hm women beige oversized cashmere jumper   \n",
       "526560              Women        hm women black water repellent parka jacket   \n",
       "526561              Women                 250 designs blue lace sheath dress   \n",
       "526562              Women           masaba women yellow printed a line dress   \n",
       "526563              Women         jockey women blue extended sleeves t shirt   \n",
       "\n",
       "        DiscountPrice (in Rs)  OriginalPrice (in Rs) DiscountOffer  \\\n",
       "0                       824.0                 1499.0       45% OFF   \n",
       "1                       517.0                 1149.0       55% OFF   \n",
       "2                       629.0                 1399.0       55% OFF   \n",
       "3                       893.0                 1295.0       31% OFF   \n",
       "4                         NaN                  599.0       35% OFF   \n",
       "...                       ...                    ...           ...   \n",
       "526559                    NaN                 9999.0           NaN   \n",
       "526560                    NaN                 9999.0           NaN   \n",
       "526561                    NaN                 9999.0           NaN   \n",
       "526562                    NaN                 9999.0           NaN   \n",
       "526563                    NaN                  799.0           NaN   \n",
       "\n",
       "                    SizeOption  Ratings  Reviews  \n",
       "0           28, 30, 32, 34, 36      3.9    999.0  \n",
       "1                  S, M, L, XL      4.0    999.0  \n",
       "2       38, 40, 42, 44, 46, 48      4.3    999.0  \n",
       "3             S, M, L, XL, XXL      4.2    999.0  \n",
       "4              XS, S, M, L, XL      4.2    999.0  \n",
       "...                        ...      ...      ...  \n",
       "526559             XS, S, M, L      NaN      NaN  \n",
       "526560         XS, S, M, L, XL      NaN      NaN  \n",
       "526561        S, M, L, XL, XXL      NaN      NaN  \n",
       "526562         XS, S, M, L, XL      NaN      NaN  \n",
       "526563                 S, M, L      NaN      NaN  \n",
       "\n",
       "[526564 rows x 13 columns]"
      ]
     },
     "execution_count": 97,
     "metadata": {},
     "output_type": "execute_result"
    }
   ],
   "source": [
    "#Loading the dataset\n",
    "myntra=pd.read_csv('Myntra Fasion Clothing 1 (1).csv')\n",
    "myntra"
   ]
  },
  {
   "cell_type": "code",
   "execution_count": 3,
   "id": "02edb57f",
   "metadata": {},
   "outputs": [
    {
     "data": {
      "text/html": [
       "<div>\n",
       "<style scoped>\n",
       "    .dataframe tbody tr th:only-of-type {\n",
       "        vertical-align: middle;\n",
       "    }\n",
       "\n",
       "    .dataframe tbody tr th {\n",
       "        vertical-align: top;\n",
       "    }\n",
       "\n",
       "    .dataframe thead th {\n",
       "        text-align: right;\n",
       "    }\n",
       "</style>\n",
       "<table border=\"1\" class=\"dataframe\">\n",
       "  <thead>\n",
       "    <tr style=\"text-align: right;\">\n",
       "      <th></th>\n",
       "      <th>URL</th>\n",
       "      <th>Product_id</th>\n",
       "      <th>BrandName</th>\n",
       "      <th>Category</th>\n",
       "      <th>Individual_category</th>\n",
       "      <th>category_by_Gender</th>\n",
       "      <th>Description</th>\n",
       "      <th>DiscountPrice (in Rs)</th>\n",
       "      <th>OriginalPrice (in Rs)</th>\n",
       "      <th>DiscountOffer</th>\n",
       "      <th>SizeOption</th>\n",
       "      <th>Ratings</th>\n",
       "      <th>Reviews</th>\n",
       "    </tr>\n",
       "  </thead>\n",
       "  <tbody>\n",
       "    <tr>\n",
       "      <th>0</th>\n",
       "      <td>https://www.myntra.com/jeans/roadster/roadster...</td>\n",
       "      <td>2296012</td>\n",
       "      <td>Roadster</td>\n",
       "      <td>Bottom Wear</td>\n",
       "      <td>jeans</td>\n",
       "      <td>Men</td>\n",
       "      <td>roadster men navy blue slim fit mid rise clean...</td>\n",
       "      <td>824.0</td>\n",
       "      <td>1499.0</td>\n",
       "      <td>45% OFF</td>\n",
       "      <td>28, 30, 32, 34, 36</td>\n",
       "      <td>3.9</td>\n",
       "      <td>999.0</td>\n",
       "    </tr>\n",
       "    <tr>\n",
       "      <th>1</th>\n",
       "      <td>https://www.myntra.com/track-pants/locomotive/...</td>\n",
       "      <td>13780156</td>\n",
       "      <td>LOCOMOTIVE</td>\n",
       "      <td>Bottom Wear</td>\n",
       "      <td>track-pants</td>\n",
       "      <td>Men</td>\n",
       "      <td>locomotive men black  white solid slim fit tra...</td>\n",
       "      <td>517.0</td>\n",
       "      <td>1149.0</td>\n",
       "      <td>55% OFF</td>\n",
       "      <td>S, M, L, XL</td>\n",
       "      <td>4.0</td>\n",
       "      <td>999.0</td>\n",
       "    </tr>\n",
       "    <tr>\n",
       "      <th>2</th>\n",
       "      <td>https://www.myntra.com/shirts/roadster/roadste...</td>\n",
       "      <td>11895958</td>\n",
       "      <td>Roadster</td>\n",
       "      <td>Topwear</td>\n",
       "      <td>shirts</td>\n",
       "      <td>Men</td>\n",
       "      <td>roadster men navy white  black geometric print...</td>\n",
       "      <td>629.0</td>\n",
       "      <td>1399.0</td>\n",
       "      <td>55% OFF</td>\n",
       "      <td>38, 40, 42, 44, 46, 48</td>\n",
       "      <td>4.3</td>\n",
       "      <td>999.0</td>\n",
       "    </tr>\n",
       "    <tr>\n",
       "      <th>3</th>\n",
       "      <td>https://www.myntra.com/shapewear/zivame/zivame...</td>\n",
       "      <td>4335679</td>\n",
       "      <td>Zivame</td>\n",
       "      <td>Lingerie &amp; Sleep Wear</td>\n",
       "      <td>shapewear</td>\n",
       "      <td>Women</td>\n",
       "      <td>zivame women black saree shapewear zi3023core0...</td>\n",
       "      <td>893.0</td>\n",
       "      <td>1295.0</td>\n",
       "      <td>31% OFF</td>\n",
       "      <td>S, M, L, XL, XXL</td>\n",
       "      <td>4.2</td>\n",
       "      <td>999.0</td>\n",
       "    </tr>\n",
       "    <tr>\n",
       "      <th>4</th>\n",
       "      <td>https://www.myntra.com/tshirts/roadster/roadst...</td>\n",
       "      <td>11690882</td>\n",
       "      <td>Roadster</td>\n",
       "      <td>Western</td>\n",
       "      <td>tshirts</td>\n",
       "      <td>Women</td>\n",
       "      <td>roadster women white solid v neck pure cotton ...</td>\n",
       "      <td>NaN</td>\n",
       "      <td>599.0</td>\n",
       "      <td>35% OFF</td>\n",
       "      <td>XS, S, M, L, XL</td>\n",
       "      <td>4.2</td>\n",
       "      <td>999.0</td>\n",
       "    </tr>\n",
       "  </tbody>\n",
       "</table>\n",
       "</div>"
      ],
      "text/plain": [
       "                                                 URL  Product_id   BrandName  \\\n",
       "0  https://www.myntra.com/jeans/roadster/roadster...     2296012    Roadster   \n",
       "1  https://www.myntra.com/track-pants/locomotive/...    13780156  LOCOMOTIVE   \n",
       "2  https://www.myntra.com/shirts/roadster/roadste...    11895958    Roadster   \n",
       "3  https://www.myntra.com/shapewear/zivame/zivame...     4335679      Zivame   \n",
       "4  https://www.myntra.com/tshirts/roadster/roadst...    11690882    Roadster   \n",
       "\n",
       "                Category Individual_category category_by_Gender  \\\n",
       "0            Bottom Wear               jeans                Men   \n",
       "1            Bottom Wear         track-pants                Men   \n",
       "2                Topwear              shirts                Men   \n",
       "3  Lingerie & Sleep Wear           shapewear              Women   \n",
       "4                Western             tshirts              Women   \n",
       "\n",
       "                                         Description  DiscountPrice (in Rs)  \\\n",
       "0  roadster men navy blue slim fit mid rise clean...                  824.0   \n",
       "1  locomotive men black  white solid slim fit tra...                  517.0   \n",
       "2  roadster men navy white  black geometric print...                  629.0   \n",
       "3  zivame women black saree shapewear zi3023core0...                  893.0   \n",
       "4  roadster women white solid v neck pure cotton ...                    NaN   \n",
       "\n",
       "   OriginalPrice (in Rs) DiscountOffer              SizeOption  Ratings  \\\n",
       "0                 1499.0       45% OFF      28, 30, 32, 34, 36      3.9   \n",
       "1                 1149.0       55% OFF             S, M, L, XL      4.0   \n",
       "2                 1399.0       55% OFF  38, 40, 42, 44, 46, 48      4.3   \n",
       "3                 1295.0       31% OFF        S, M, L, XL, XXL      4.2   \n",
       "4                  599.0       35% OFF         XS, S, M, L, XL      4.2   \n",
       "\n",
       "   Reviews  \n",
       "0    999.0  \n",
       "1    999.0  \n",
       "2    999.0  \n",
       "3    999.0  \n",
       "4    999.0  "
      ]
     },
     "execution_count": 3,
     "metadata": {},
     "output_type": "execute_result"
    }
   ],
   "source": [
    "# Checking the first few rows of the training data set\n",
    "myntra.head()"
   ]
  },
  {
   "cell_type": "code",
   "execution_count": 98,
   "id": "d36fa1ad",
   "metadata": {},
   "outputs": [
    {
     "name": "stdout",
     "output_type": "stream",
     "text": [
      "<class 'pandas.core.frame.DataFrame'>\n",
      "RangeIndex: 526564 entries, 0 to 526563\n",
      "Data columns (total 13 columns):\n",
      " #   Column                 Non-Null Count   Dtype  \n",
      "---  ------                 --------------   -----  \n",
      " 0   URL                    526564 non-null  object \n",
      " 1   Product_id             526564 non-null  int64  \n",
      " 2   BrandName              526564 non-null  object \n",
      " 3   Category               526564 non-null  object \n",
      " 4   Individual_category    526564 non-null  object \n",
      " 5   category_by_Gender     526564 non-null  object \n",
      " 6   Description            526564 non-null  object \n",
      " 7   DiscountPrice (in Rs)  333406 non-null  float64\n",
      " 8   OriginalPrice (in Rs)  526564 non-null  float64\n",
      " 9   DiscountOffer          452258 non-null  object \n",
      " 10  SizeOption             526564 non-null  object \n",
      " 11  Ratings                190412 non-null  float64\n",
      " 12  Reviews                190412 non-null  float64\n",
      "dtypes: float64(4), int64(1), object(8)\n",
      "memory usage: 52.2+ MB\n"
     ]
    }
   ],
   "source": [
    "# checking the data type in the training dtata\n",
    "myntra.info()"
   ]
  },
  {
   "cell_type": "code",
   "execution_count": 99,
   "id": "37409198",
   "metadata": {},
   "outputs": [
    {
     "data": {
      "text/plain": [
       "Index(['URL', 'BrandName', 'Category', 'Individual_category',\n",
       "       'category_by_Gender', 'Description', 'DiscountOffer', 'SizeOption'],\n",
       "      dtype='object')"
      ]
     },
     "execution_count": 99,
     "metadata": {},
     "output_type": "execute_result"
    }
   ],
   "source": [
    "##to check the object datatypes\n",
    "cols = myntra.select_dtypes([\"object\"])\n",
    "cols.columns"
   ]
  },
  {
   "cell_type": "code",
   "execution_count": 100,
   "id": "e1a6f967",
   "metadata": {},
   "outputs": [
    {
     "data": {
      "text/plain": [
       "URL                           0\n",
       "Product_id                    0\n",
       "BrandName                     0\n",
       "Category                      0\n",
       "Individual_category           0\n",
       "category_by_Gender            0\n",
       "Description                   0\n",
       "DiscountPrice (in Rs)    193158\n",
       "OriginalPrice (in Rs)         0\n",
       "DiscountOffer             74306\n",
       "SizeOption                    0\n",
       "Ratings                  336152\n",
       "Reviews                  336152\n",
       "dtype: int64"
      ]
     },
     "execution_count": 100,
     "metadata": {},
     "output_type": "execute_result"
    }
   ],
   "source": [
    "# Checking of missing values\n",
    "myntra.isna().sum()\n",
    "## total number of missing values in each coloumns"
   ]
  },
  {
   "cell_type": "code",
   "execution_count": 101,
   "id": "33ebf135",
   "metadata": {},
   "outputs": [],
   "source": [
    "# dropping URL, PRODUCT ID & DESCRIPTION as it is just for reference\n",
    "myntra.drop([\"URL\",\"Product_id\",\"Description\"], axis=1, inplace=True)"
   ]
  },
  {
   "cell_type": "code",
   "execution_count": 102,
   "id": "ac87a8ad",
   "metadata": {},
   "outputs": [
    {
     "data": {
      "text/html": [
       "<div>\n",
       "<style scoped>\n",
       "    .dataframe tbody tr th:only-of-type {\n",
       "        vertical-align: middle;\n",
       "    }\n",
       "\n",
       "    .dataframe tbody tr th {\n",
       "        vertical-align: top;\n",
       "    }\n",
       "\n",
       "    .dataframe thead th {\n",
       "        text-align: right;\n",
       "    }\n",
       "</style>\n",
       "<table border=\"1\" class=\"dataframe\">\n",
       "  <thead>\n",
       "    <tr style=\"text-align: right;\">\n",
       "      <th></th>\n",
       "      <th>count</th>\n",
       "      <th>unique</th>\n",
       "      <th>top</th>\n",
       "      <th>freq</th>\n",
       "    </tr>\n",
       "  </thead>\n",
       "  <tbody>\n",
       "    <tr>\n",
       "      <th>BrandName</th>\n",
       "      <td>526564</td>\n",
       "      <td>2088</td>\n",
       "      <td>Pothys</td>\n",
       "      <td>16005</td>\n",
       "    </tr>\n",
       "    <tr>\n",
       "      <th>Category</th>\n",
       "      <td>526564</td>\n",
       "      <td>8</td>\n",
       "      <td>Indian Wear</td>\n",
       "      <td>145845</td>\n",
       "    </tr>\n",
       "    <tr>\n",
       "      <th>Individual_category</th>\n",
       "      <td>526564</td>\n",
       "      <td>92</td>\n",
       "      <td>tshirts</td>\n",
       "      <td>61198</td>\n",
       "    </tr>\n",
       "    <tr>\n",
       "      <th>category_by_Gender</th>\n",
       "      <td>526564</td>\n",
       "      <td>2</td>\n",
       "      <td>Women</td>\n",
       "      <td>339185</td>\n",
       "    </tr>\n",
       "    <tr>\n",
       "      <th>DiscountOffer</th>\n",
       "      <td>452258</td>\n",
       "      <td>1418</td>\n",
       "      <td>50% OFF</td>\n",
       "      <td>52737</td>\n",
       "    </tr>\n",
       "    <tr>\n",
       "      <th>SizeOption</th>\n",
       "      <td>526564</td>\n",
       "      <td>3588</td>\n",
       "      <td>S, M, L, XL, XXL</td>\n",
       "      <td>84643</td>\n",
       "    </tr>\n",
       "  </tbody>\n",
       "</table>\n",
       "</div>"
      ],
      "text/plain": [
       "                      count unique               top    freq\n",
       "BrandName            526564   2088            Pothys   16005\n",
       "Category             526564      8       Indian Wear  145845\n",
       "Individual_category  526564     92           tshirts   61198\n",
       "category_by_Gender   526564      2             Women  339185\n",
       "DiscountOffer        452258   1418           50% OFF   52737\n",
       "SizeOption           526564   3588  S, M, L, XL, XXL   84643"
      ]
     },
     "execution_count": 102,
     "metadata": {},
     "output_type": "execute_result"
    }
   ],
   "source": [
    "myntra.describe(include=[\"object\"]).T\n"
   ]
  },
  {
   "cell_type": "code",
   "execution_count": 103,
   "id": "ebc5129c",
   "metadata": {},
   "outputs": [
    {
     "data": {
      "text/html": [
       "<div>\n",
       "<style scoped>\n",
       "    .dataframe tbody tr th:only-of-type {\n",
       "        vertical-align: middle;\n",
       "    }\n",
       "\n",
       "    .dataframe tbody tr th {\n",
       "        vertical-align: top;\n",
       "    }\n",
       "\n",
       "    .dataframe thead th {\n",
       "        text-align: right;\n",
       "    }\n",
       "</style>\n",
       "<table border=\"1\" class=\"dataframe\">\n",
       "  <thead>\n",
       "    <tr style=\"text-align: right;\">\n",
       "      <th></th>\n",
       "      <th>BrandName</th>\n",
       "      <th>Category</th>\n",
       "      <th>Individual_category</th>\n",
       "      <th>category_by_Gender</th>\n",
       "      <th>DiscountPrice (in Rs)</th>\n",
       "      <th>OriginalPrice (in Rs)</th>\n",
       "      <th>DiscountOffer</th>\n",
       "      <th>SizeOption</th>\n",
       "      <th>Ratings</th>\n",
       "      <th>Reviews</th>\n",
       "    </tr>\n",
       "  </thead>\n",
       "  <tbody>\n",
       "    <tr>\n",
       "      <th>4</th>\n",
       "      <td>Roadster</td>\n",
       "      <td>Western</td>\n",
       "      <td>tshirts</td>\n",
       "      <td>Women</td>\n",
       "      <td>NaN</td>\n",
       "      <td>599.0</td>\n",
       "      <td>35% OFF</td>\n",
       "      <td>XS, S, M, L, XL</td>\n",
       "      <td>4.2</td>\n",
       "      <td>999.0</td>\n",
       "    </tr>\n",
       "    <tr>\n",
       "      <th>5</th>\n",
       "      <td>Mast &amp; Harbour</td>\n",
       "      <td>Western</td>\n",
       "      <td>tops</td>\n",
       "      <td>Women</td>\n",
       "      <td>NaN</td>\n",
       "      <td>599.0</td>\n",
       "      <td>40% OFF</td>\n",
       "      <td>XS, S, M, L, XL</td>\n",
       "      <td>4.4</td>\n",
       "      <td>999.0</td>\n",
       "    </tr>\n",
       "    <tr>\n",
       "      <th>7</th>\n",
       "      <td>Mayra</td>\n",
       "      <td>Western</td>\n",
       "      <td>tops</td>\n",
       "      <td>Women</td>\n",
       "      <td>NaN</td>\n",
       "      <td>1395.0</td>\n",
       "      <td>58% OFF</td>\n",
       "      <td>S, M, L, XL</td>\n",
       "      <td>3.7</td>\n",
       "      <td>998.0</td>\n",
       "    </tr>\n",
       "  </tbody>\n",
       "</table>\n",
       "</div>"
      ],
      "text/plain": [
       "        BrandName Category Individual_category category_by_Gender  \\\n",
       "4        Roadster  Western             tshirts              Women   \n",
       "5  Mast & Harbour  Western                tops              Women   \n",
       "7           Mayra  Western                tops              Women   \n",
       "\n",
       "   DiscountPrice (in Rs)  OriginalPrice (in Rs) DiscountOffer  \\\n",
       "4                    NaN                  599.0       35% OFF   \n",
       "5                    NaN                  599.0       40% OFF   \n",
       "7                    NaN                 1395.0       58% OFF   \n",
       "\n",
       "        SizeOption  Ratings  Reviews  \n",
       "4  XS, S, M, L, XL      4.2    999.0  \n",
       "5  XS, S, M, L, XL      4.4    999.0  \n",
       "7      S, M, L, XL      3.7    998.0  "
      ]
     },
     "execution_count": 103,
     "metadata": {},
     "output_type": "execute_result"
    }
   ],
   "source": [
    "myntra[myntra['DiscountPrice (in Rs)'].isnull()][:3]\n"
   ]
  },
  {
   "cell_type": "code",
   "execution_count": 104,
   "id": "7042c7f9",
   "metadata": {},
   "outputs": [
    {
     "name": "stdout",
     "output_type": "stream",
     "text": [
      "(526564, 10)\n",
      "(193158, 10)\n",
      "(333406, 10)\n"
     ]
    }
   ],
   "source": [
    "# dividing the dataset into 2 parts where discount price is null and not null\n",
    "data_DP_null = myntra[myntra['DiscountPrice (in Rs)'].isnull()]\n",
    "data_DP_not_null = myntra[myntra['DiscountPrice (in Rs)'].notnull()]\n",
    "print(myntra.shape)\n",
    "print(data_DP_null.shape)\n",
    "print(data_DP_not_null.shape)"
   ]
  },
  {
   "cell_type": "code",
   "execution_count": 105,
   "id": "f9d65247",
   "metadata": {},
   "outputs": [
    {
     "name": "stdout",
     "output_type": "stream",
     "text": [
      "4         35% OFF\n",
      "5         40% OFF\n",
      "7         58% OFF\n",
      "8               0\n",
      "9               0\n",
      "           ...   \n",
      "526559          0\n",
      "526560          0\n",
      "526561          0\n",
      "526562          0\n",
      "526563          0\n",
      "Name: DiscountOffer, Length: 193158, dtype: object\n"
     ]
    }
   ],
   "source": [
    "# Let's impute the null discount offers by 0\n",
    "data_DP_null['DiscountOffer'] = data_DP_null['DiscountOffer'].fillna(0)\n",
    "data_DP_null['DiscountOffer'] = data_DP_null['DiscountOffer'].astype(str) # need to convert numerical 0 to string\n",
    "print(data_DP_null['DiscountOffer'])"
   ]
  },
  {
   "cell_type": "code",
   "execution_count": 106,
   "id": "9fdee8b7",
   "metadata": {},
   "outputs": [
    {
     "data": {
      "text/plain": [
       "4         [35,  OFF]\n",
       "5         [40,  OFF]\n",
       "7         [58,  OFF]\n",
       "8                [0]\n",
       "9                [0]\n",
       "             ...    \n",
       "526559           [0]\n",
       "526560           [0]\n",
       "526561           [0]\n",
       "526562           [0]\n",
       "526563           [0]\n",
       "Name: DiscountOffer, Length: 193158, dtype: object"
      ]
     },
     "execution_count": 106,
     "metadata": {},
     "output_type": "execute_result"
    }
   ],
   "source": [
    "# splitting the discount offer coloumn values\n",
    "data_DP_null['DiscountOffer'].apply(lambda x: x.split('%'))"
   ]
  },
  {
   "cell_type": "code",
   "execution_count": 107,
   "id": "e7d4a99d",
   "metadata": {},
   "outputs": [
    {
     "data": {
      "text/plain": [
       "7     109474\n",
       "1      74122\n",
       "11      4018\n",
       "12      2635\n",
       "6       1855\n",
       "9        896\n",
       "10       158\n",
       "Name: DiscountOffer_len, dtype: int64"
      ]
     },
     "execution_count": 107,
     "metadata": {},
     "output_type": "execute_result"
    }
   ],
   "source": [
    "# Let's check the length of every value in the discount column\n",
    "data_DP_null['DiscountOffer_len'] = data_DP_null['DiscountOffer'].apply(lambda x: len(x))\n",
    "data_DP_null['DiscountOffer_len'].value_counts()"
   ]
  },
  {
   "cell_type": "code",
   "execution_count": 108,
   "id": "a3954d71",
   "metadata": {},
   "outputs": [
    {
     "name": "stdout",
     "output_type": "stream",
     "text": [
      "8         0\n",
      "9         0\n",
      "11        0\n",
      "17        0\n",
      "20        0\n",
      "         ..\n",
      "526559    0\n",
      "526560    0\n",
      "526561    0\n",
      "526562    0\n",
      "526563    0\n",
      "Name: DiscountOffer, Length: 74122, dtype: object\n"
     ]
    }
   ],
   "source": [
    "print(data_DP_null[data_DP_null['DiscountOffer_len']==1]['DiscountOffer'])\n"
   ]
  },
  {
   "cell_type": "code",
   "execution_count": 109,
   "id": "515c644d",
   "metadata": {},
   "outputs": [
    {
     "name": "stdout",
     "output_type": "stream",
     "text": [
      "1174      5% OFF\n",
      "1738      2% OFF\n",
      "2153      5% OFF\n",
      "2415      8% OFF\n",
      "2503      8% OFF\n",
      "           ...  \n",
      "510274    1% OFF\n",
      "510275    5% OFF\n",
      "510646    5% OFF\n",
      "510671    1% OFF\n",
      "510810    1% OFF\n",
      "Name: DiscountOffer, Length: 1855, dtype: object\n"
     ]
    }
   ],
   "source": [
    "print(data_DP_null[data_DP_null['DiscountOffer_len']==6]['DiscountOffer'])\n"
   ]
  },
  {
   "cell_type": "code",
   "execution_count": 110,
   "id": "e44caea2",
   "metadata": {},
   "outputs": [
    {
     "name": "stdout",
     "output_type": "stream",
     "text": [
      "4         35% OFF\n",
      "5         40% OFF\n",
      "7         58% OFF\n",
      "13        50% OFF\n",
      "14        60% OFF\n",
      "           ...   \n",
      "510807    48% OFF\n",
      "510808    50% OFF\n",
      "510809    50% OFF\n",
      "510811    50% OFF\n",
      "510812    40% OFF\n",
      "Name: DiscountOffer, Length: 109474, dtype: object\n"
     ]
    }
   ],
   "source": [
    "print(data_DP_null[data_DP_null['DiscountOffer_len']==7]['DiscountOffer'])\n"
   ]
  },
  {
   "cell_type": "code",
   "execution_count": 111,
   "id": "9dcf0474",
   "metadata": {},
   "outputs": [
    {
     "name": "stdout",
     "output_type": "stream",
     "text": [
      "77         45 % OFF\n",
      "527        45 % OFF\n",
      "850        60 % OFF\n",
      "880        45 % OFF\n",
      "973        60 % OFF\n",
      "            ...    \n",
      "509897     41 % OFF\n",
      "509901     49 % OFF\n",
      "510222     45 % OFF\n",
      "510248     50 % OFF\n",
      "510684     45 % OFF\n",
      "Name: DiscountOffer, Length: 896, dtype: object\n"
     ]
    }
   ],
   "source": [
    "print(data_DP_null[data_DP_null['DiscountOffer_len']==9]['DiscountOffer'])\n"
   ]
  },
  {
   "cell_type": "code",
   "execution_count": 112,
   "id": "22b978f2",
   "metadata": {},
   "outputs": [
    {
     "name": "stdout",
     "output_type": "stream",
     "text": [
      "561       Rs. 38 OFF\n",
      "1747      Rs. 10 OFF\n",
      "3227      Rs. 15 OFF\n",
      "3901      Rs. 80 OFF\n",
      "6816      Rs. 33 OFF\n",
      "             ...    \n",
      "503178    Rs. 50 OFF\n",
      "505875    Rs. 50 OFF\n",
      "505968    Rs. 50 OFF\n",
      "506746    Rs. 50 OFF\n",
      "506748    Rs. 50 OFF\n",
      "Name: DiscountOffer, Length: 158, dtype: object\n"
     ]
    }
   ],
   "source": [
    "print(data_DP_null[data_DP_null['DiscountOffer_len']==10]['DiscountOffer'])\n"
   ]
  },
  {
   "cell_type": "code",
   "execution_count": 113,
   "id": "96683556",
   "metadata": {},
   "outputs": [
    {
     "name": "stdout",
     "output_type": "stream",
     "text": [
      "182       Rs. 500 OFF\n",
      "199       Rs. 400 OFF\n",
      "243       Rs. 300 OFF\n",
      "325       Rs. 300 OFF\n",
      "356       Rs. 500 OFF\n",
      "             ...     \n",
      "510703    Rs. 500 OFF\n",
      "510704    Rs. 500 OFF\n",
      "510705    Rs. 430 OFF\n",
      "510708    Rs. 200 OFF\n",
      "510730    Rs. 200 OFF\n",
      "Name: DiscountOffer, Length: 4018, dtype: object\n"
     ]
    }
   ],
   "source": [
    "print(data_DP_null[data_DP_null['DiscountOffer_len']==11]['DiscountOffer'])\n"
   ]
  },
  {
   "cell_type": "code",
   "execution_count": 114,
   "id": "64169ed5",
   "metadata": {},
   "outputs": [
    {
     "name": "stdout",
     "output_type": "stream",
     "text": [
      "2013      Rs. 1100 OFF\n",
      "2535      Rs. 1100 OFF\n",
      "3188      Rs. 1100 OFF\n",
      "4499      Rs. 1000 OFF\n",
      "4637      Rs. 1200 OFF\n",
      "              ...     \n",
      "503949    Rs. 4000 OFF\n",
      "503950    Rs. 4900 OFF\n",
      "504004    Rs. 5100 OFF\n",
      "504178    Rs. 4200 OFF\n",
      "504193    Rs. 3499 OFF\n",
      "Name: DiscountOffer, Length: 2635, dtype: object\n"
     ]
    }
   ],
   "source": [
    "print(data_DP_null[data_DP_null['DiscountOffer_len']==12]['DiscountOffer'])\n"
   ]
  },
  {
   "cell_type": "code",
   "execution_count": 115,
   "id": "97092dc6",
   "metadata": {},
   "outputs": [],
   "source": [
    "# Let's save each values in different data frames\n",
    "data1 = data_DP_null[data_DP_null['DiscountOffer_len']==1]\n",
    "data6 = data_DP_null[data_DP_null['DiscountOffer_len']==6]\n",
    "data7 = data_DP_null[data_DP_null['DiscountOffer_len']==7]\n",
    "data9 = data_DP_null[data_DP_null['DiscountOffer_len']==9]\n",
    "data10 = data_DP_null[data_DP_null['DiscountOffer_len']==10]\n",
    "data11 = data_DP_null[data_DP_null['DiscountOffer_len']==11]\n",
    "data12 = data_DP_null[data_DP_null['DiscountOffer_len']==12]"
   ]
  },
  {
   "cell_type": "code",
   "execution_count": 116,
   "id": "269dcd08",
   "metadata": {},
   "outputs": [],
   "source": [
    "# getting the numerical values from respective data frames using different split method filteration\n",
    "data1['discount_seg'] = data1['DiscountOffer'].apply(lambda x: x.split('%')[0])\n",
    "data6['discount_seg'] = data6['DiscountOffer'].apply(lambda x: x.split('%')[0])\n",
    "data7['discount_seg'] = data7['DiscountOffer'].apply(lambda x: x.split('%')[0])\n",
    "data9['discount_seg'] = data9['DiscountOffer'].apply(lambda x: x.split('%')[0])\n",
    "data10['discount_seg'] = data10['DiscountOffer'].apply(lambda x: (x.split('Rs.')[1]).split('OFF')[0]) # IT IS IN RUPEES VALUE OFF FROM ORIGINAL\n",
    "data11['discount_seg'] = data11['DiscountOffer'].apply(lambda x: (x.split('Rs.')[1]).split('OFF')[0]) # IT IS IN RUPEES VALUE OFF FROM ORIGINAL\n",
    "data12['discount_seg'] = data12['DiscountOffer'].apply(lambda x: (x.split('Rs.')[1]).split('OFF')[0]) # IT IS IN RUPEES VALUE OFF FROM ORIGINAL"
   ]
  },
  {
   "cell_type": "code",
   "execution_count": 117,
   "id": "a573805f",
   "metadata": {},
   "outputs": [],
   "source": [
    "# now getting the discounted price in numerical format\n",
    "data1['discount_seg'] = data1['discount_seg'].astype(float)\n",
    "data6['discount_seg'] = data6['discount_seg'].astype(float)\n",
    "data7['discount_seg'] = data7['discount_seg'].astype(float)\n",
    "data9['discount_seg'] = pd.to_numeric(data9['discount_seg'],errors ='coerce')\n",
    "data10['discount_seg'] = data10['discount_seg'].astype(float)\n",
    "data11['discount_seg'] = data11['discount_seg'].astype(float)\n",
    "data12['discount_seg'] = data12['discount_seg'].astype(float)"
   ]
  },
  {
   "cell_type": "code",
   "execution_count": 118,
   "id": "7bf4b65c",
   "metadata": {},
   "outputs": [],
   "source": [
    "# Now getting the exact price of the product after discount\n",
    "data1['discount_seg_price'] = data1['OriginalPrice (in Rs)']-data1['discount_seg']\n",
    "data6['discount_seg_price'] = data6['OriginalPrice (in Rs)']-(data6['OriginalPrice (in Rs)']*data6['discount_seg']/100)\n",
    "data7['discount_seg_price'] = data7['OriginalPrice (in Rs)']-(data7['OriginalPrice (in Rs)']*data7['discount_seg']/100)\n",
    "data9['discount_seg_price'] = data9['OriginalPrice (in Rs)']-(data9['OriginalPrice (in Rs)']*data9['discount_seg']/100)\n",
    "data10['discount_seg_price'] = data10['OriginalPrice (in Rs)']-data10['discount_seg']\n",
    "data11['discount_seg_price'] = data11['OriginalPrice (in Rs)']-data11['discount_seg']\n",
    "data12['discount_seg_price'] = data12['OriginalPrice (in Rs)']-data12['discount_seg']"
   ]
  },
  {
   "cell_type": "code",
   "execution_count": 119,
   "id": "95b7c488",
   "metadata": {},
   "outputs": [
    {
     "name": "stdout",
     "output_type": "stream",
     "text": [
      "BrandName                     0\n",
      "Category                      0\n",
      "Individual_category           0\n",
      "category_by_Gender            0\n",
      "DiscountPrice (in Rs)    193158\n",
      "OriginalPrice (in Rs)         0\n",
      "DiscountOffer                 0\n",
      "SizeOption                    0\n",
      "Ratings                  120311\n",
      "Reviews                  120311\n",
      "DiscountOffer_len             0\n",
      "dtype: int64\n"
     ]
    }
   ],
   "source": [
    "print(data_DP_null.isnull().sum())\n"
   ]
  },
  {
   "cell_type": "code",
   "execution_count": 120,
   "id": "2172ab25",
   "metadata": {},
   "outputs": [
    {
     "name": "stdout",
     "output_type": "stream",
     "text": [
      "before (193158, 11)\n"
     ]
    },
    {
     "data": {
      "text/html": [
       "<div>\n",
       "<style scoped>\n",
       "    .dataframe tbody tr th:only-of-type {\n",
       "        vertical-align: middle;\n",
       "    }\n",
       "\n",
       "    .dataframe tbody tr th {\n",
       "        vertical-align: top;\n",
       "    }\n",
       "\n",
       "    .dataframe thead th {\n",
       "        text-align: right;\n",
       "    }\n",
       "</style>\n",
       "<table border=\"1\" class=\"dataframe\">\n",
       "  <thead>\n",
       "    <tr style=\"text-align: right;\">\n",
       "      <th></th>\n",
       "      <th>BrandName</th>\n",
       "      <th>Category</th>\n",
       "      <th>Individual_category</th>\n",
       "      <th>category_by_Gender</th>\n",
       "      <th>DiscountPrice (in Rs)</th>\n",
       "      <th>OriginalPrice (in Rs)</th>\n",
       "      <th>DiscountOffer</th>\n",
       "      <th>SizeOption</th>\n",
       "      <th>Ratings</th>\n",
       "      <th>Reviews</th>\n",
       "      <th>DiscountOffer_len</th>\n",
       "    </tr>\n",
       "  </thead>\n",
       "  <tbody>\n",
       "    <tr>\n",
       "      <th>4</th>\n",
       "      <td>Roadster</td>\n",
       "      <td>Western</td>\n",
       "      <td>tshirts</td>\n",
       "      <td>Women</td>\n",
       "      <td>NaN</td>\n",
       "      <td>599.0</td>\n",
       "      <td>35% OFF</td>\n",
       "      <td>XS, S, M, L, XL</td>\n",
       "      <td>4.2</td>\n",
       "      <td>999.0</td>\n",
       "      <td>7</td>\n",
       "    </tr>\n",
       "    <tr>\n",
       "      <th>5</th>\n",
       "      <td>Mast &amp; Harbour</td>\n",
       "      <td>Western</td>\n",
       "      <td>tops</td>\n",
       "      <td>Women</td>\n",
       "      <td>NaN</td>\n",
       "      <td>599.0</td>\n",
       "      <td>40% OFF</td>\n",
       "      <td>XS, S, M, L, XL</td>\n",
       "      <td>4.4</td>\n",
       "      <td>999.0</td>\n",
       "      <td>7</td>\n",
       "    </tr>\n",
       "    <tr>\n",
       "      <th>7</th>\n",
       "      <td>Mayra</td>\n",
       "      <td>Western</td>\n",
       "      <td>tops</td>\n",
       "      <td>Women</td>\n",
       "      <td>NaN</td>\n",
       "      <td>1395.0</td>\n",
       "      <td>58% OFF</td>\n",
       "      <td>S, M, L, XL</td>\n",
       "      <td>3.7</td>\n",
       "      <td>998.0</td>\n",
       "      <td>7</td>\n",
       "    </tr>\n",
       "    <tr>\n",
       "      <th>8</th>\n",
       "      <td>Roadster</td>\n",
       "      <td>Western</td>\n",
       "      <td>tshirts</td>\n",
       "      <td>Women</td>\n",
       "      <td>NaN</td>\n",
       "      <td>1098.0</td>\n",
       "      <td>0</td>\n",
       "      <td>XS, S, M, L, XL</td>\n",
       "      <td>4.3</td>\n",
       "      <td>997.0</td>\n",
       "      <td>1</td>\n",
       "    </tr>\n",
       "    <tr>\n",
       "      <th>9</th>\n",
       "      <td>HERE&amp;NOW</td>\n",
       "      <td>Bottom Wear</td>\n",
       "      <td>jeans</td>\n",
       "      <td>Men</td>\n",
       "      <td>NaN</td>\n",
       "      <td>2749.0</td>\n",
       "      <td>0</td>\n",
       "      <td>28, 30, 32, 34, 36</td>\n",
       "      <td>3.5</td>\n",
       "      <td>996.0</td>\n",
       "      <td>1</td>\n",
       "    </tr>\n",
       "  </tbody>\n",
       "</table>\n",
       "</div>"
      ],
      "text/plain": [
       "        BrandName     Category Individual_category category_by_Gender  \\\n",
       "4        Roadster      Western             tshirts              Women   \n",
       "5  Mast & Harbour      Western                tops              Women   \n",
       "7           Mayra      Western                tops              Women   \n",
       "8        Roadster      Western             tshirts              Women   \n",
       "9        HERE&NOW  Bottom Wear               jeans                Men   \n",
       "\n",
       "   DiscountPrice (in Rs)  OriginalPrice (in Rs) DiscountOffer  \\\n",
       "4                    NaN                  599.0       35% OFF   \n",
       "5                    NaN                  599.0       40% OFF   \n",
       "7                    NaN                 1395.0       58% OFF   \n",
       "8                    NaN                 1098.0             0   \n",
       "9                    NaN                 2749.0             0   \n",
       "\n",
       "           SizeOption  Ratings  Reviews  DiscountOffer_len  \n",
       "4     XS, S, M, L, XL      4.2    999.0                  7  \n",
       "5     XS, S, M, L, XL      4.4    999.0                  7  \n",
       "7         S, M, L, XL      3.7    998.0                  7  \n",
       "8     XS, S, M, L, XL      4.3    997.0                  1  \n",
       "9  28, 30, 32, 34, 36      3.5    996.0                  1  "
      ]
     },
     "execution_count": 120,
     "metadata": {},
     "output_type": "execute_result"
    }
   ],
   "source": [
    "# Now recreate the original data frame\n",
    "print('before',data_DP_null.shape)\n",
    "data_DP_null.head()"
   ]
  },
  {
   "cell_type": "code",
   "execution_count": 121,
   "id": "192bcf3e",
   "metadata": {},
   "outputs": [
    {
     "name": "stdout",
     "output_type": "stream",
     "text": [
      "after (193158, 13)\n"
     ]
    },
    {
     "data": {
      "text/html": [
       "<div>\n",
       "<style scoped>\n",
       "    .dataframe tbody tr th:only-of-type {\n",
       "        vertical-align: middle;\n",
       "    }\n",
       "\n",
       "    .dataframe tbody tr th {\n",
       "        vertical-align: top;\n",
       "    }\n",
       "\n",
       "    .dataframe thead th {\n",
       "        text-align: right;\n",
       "    }\n",
       "</style>\n",
       "<table border=\"1\" class=\"dataframe\">\n",
       "  <thead>\n",
       "    <tr style=\"text-align: right;\">\n",
       "      <th></th>\n",
       "      <th>BrandName</th>\n",
       "      <th>Category</th>\n",
       "      <th>Individual_category</th>\n",
       "      <th>category_by_Gender</th>\n",
       "      <th>DiscountPrice (in Rs)</th>\n",
       "      <th>OriginalPrice (in Rs)</th>\n",
       "      <th>DiscountOffer</th>\n",
       "      <th>SizeOption</th>\n",
       "      <th>Ratings</th>\n",
       "      <th>Reviews</th>\n",
       "      <th>DiscountOffer_len</th>\n",
       "      <th>discount_seg</th>\n",
       "      <th>discount_seg_price</th>\n",
       "    </tr>\n",
       "  </thead>\n",
       "  <tbody>\n",
       "    <tr>\n",
       "      <th>8</th>\n",
       "      <td>Roadster</td>\n",
       "      <td>Western</td>\n",
       "      <td>tshirts</td>\n",
       "      <td>Women</td>\n",
       "      <td>NaN</td>\n",
       "      <td>1098.0</td>\n",
       "      <td>0</td>\n",
       "      <td>XS, S, M, L, XL</td>\n",
       "      <td>4.3</td>\n",
       "      <td>997.0</td>\n",
       "      <td>1</td>\n",
       "      <td>0.0</td>\n",
       "      <td>1098.0</td>\n",
       "    </tr>\n",
       "    <tr>\n",
       "      <th>9</th>\n",
       "      <td>HERE&amp;NOW</td>\n",
       "      <td>Bottom Wear</td>\n",
       "      <td>jeans</td>\n",
       "      <td>Men</td>\n",
       "      <td>NaN</td>\n",
       "      <td>2749.0</td>\n",
       "      <td>0</td>\n",
       "      <td>28, 30, 32, 34, 36</td>\n",
       "      <td>3.5</td>\n",
       "      <td>996.0</td>\n",
       "      <td>1</td>\n",
       "      <td>0.0</td>\n",
       "      <td>2749.0</td>\n",
       "    </tr>\n",
       "    <tr>\n",
       "      <th>11</th>\n",
       "      <td>Roadster</td>\n",
       "      <td>Topwear</td>\n",
       "      <td>tshirts</td>\n",
       "      <td>Men</td>\n",
       "      <td>NaN</td>\n",
       "      <td>699.0</td>\n",
       "      <td>0</td>\n",
       "      <td>XS, S, M, L, XL, XXL, 3XL, 4XL</td>\n",
       "      <td>4.1</td>\n",
       "      <td>996.0</td>\n",
       "      <td>1</td>\n",
       "      <td>0.0</td>\n",
       "      <td>699.0</td>\n",
       "    </tr>\n",
       "    <tr>\n",
       "      <th>17</th>\n",
       "      <td>Sangria</td>\n",
       "      <td>Plus Size</td>\n",
       "      <td>kurta-sets</td>\n",
       "      <td>Women</td>\n",
       "      <td>NaN</td>\n",
       "      <td>3999.0</td>\n",
       "      <td>0</td>\n",
       "      <td>XS, S, M, L, XL, XXL, 3XL</td>\n",
       "      <td>4.3</td>\n",
       "      <td>995.0</td>\n",
       "      <td>1</td>\n",
       "      <td>0.0</td>\n",
       "      <td>3999.0</td>\n",
       "    </tr>\n",
       "    <tr>\n",
       "      <th>20</th>\n",
       "      <td>Roadster</td>\n",
       "      <td>Western</td>\n",
       "      <td>tshirts</td>\n",
       "      <td>Women</td>\n",
       "      <td>NaN</td>\n",
       "      <td>1298.0</td>\n",
       "      <td>0</td>\n",
       "      <td>XS, S, M, L, XL</td>\n",
       "      <td>4.4</td>\n",
       "      <td>994.0</td>\n",
       "      <td>1</td>\n",
       "      <td>0.0</td>\n",
       "      <td>1298.0</td>\n",
       "    </tr>\n",
       "  </tbody>\n",
       "</table>\n",
       "</div>"
      ],
      "text/plain": [
       "   BrandName     Category Individual_category category_by_Gender  \\\n",
       "8   Roadster      Western             tshirts              Women   \n",
       "9   HERE&NOW  Bottom Wear               jeans                Men   \n",
       "11  Roadster      Topwear             tshirts                Men   \n",
       "17   Sangria    Plus Size          kurta-sets              Women   \n",
       "20  Roadster      Western             tshirts              Women   \n",
       "\n",
       "    DiscountPrice (in Rs)  OriginalPrice (in Rs) DiscountOffer  \\\n",
       "8                     NaN                 1098.0             0   \n",
       "9                     NaN                 2749.0             0   \n",
       "11                    NaN                  699.0             0   \n",
       "17                    NaN                 3999.0             0   \n",
       "20                    NaN                 1298.0             0   \n",
       "\n",
       "                        SizeOption  Ratings  Reviews  DiscountOffer_len  \\\n",
       "8                  XS, S, M, L, XL      4.3    997.0                  1   \n",
       "9               28, 30, 32, 34, 36      3.5    996.0                  1   \n",
       "11  XS, S, M, L, XL, XXL, 3XL, 4XL      4.1    996.0                  1   \n",
       "17       XS, S, M, L, XL, XXL, 3XL      4.3    995.0                  1   \n",
       "20                 XS, S, M, L, XL      4.4    994.0                  1   \n",
       "\n",
       "    discount_seg  discount_seg_price  \n",
       "8            0.0              1098.0  \n",
       "9            0.0              2749.0  \n",
       "11           0.0               699.0  \n",
       "17           0.0              3999.0  \n",
       "20           0.0              1298.0  "
      ]
     },
     "execution_count": 121,
     "metadata": {},
     "output_type": "execute_result"
    }
   ],
   "source": [
    "## concatinating the different coloumns \n",
    "data_DP_null = pd.concat([data1,data6, data7, data9, data10, data11, data12], axis = 0)\n",
    "print('after',data_DP_null.shape)\n",
    "data_DP_null.head()"
   ]
  },
  {
   "cell_type": "code",
   "execution_count": 122,
   "id": "c3b33206",
   "metadata": {},
   "outputs": [],
   "source": [
    "# lets calculate the discount_seg_% now\n",
    "data_DP_null['price_diff'] = data_DP_null['OriginalPrice (in Rs)']-data_DP_null['discount_seg_price']\n",
    "data_DP_null['discount_seg_%'] = round(data_DP_null['price_diff']*100/data_DP_null['OriginalPrice (in Rs)'])"
   ]
  },
  {
   "cell_type": "code",
   "execution_count": 123,
   "id": "87b29077",
   "metadata": {},
   "outputs": [
    {
     "data": {
      "text/html": [
       "<div>\n",
       "<style scoped>\n",
       "    .dataframe tbody tr th:only-of-type {\n",
       "        vertical-align: middle;\n",
       "    }\n",
       "\n",
       "    .dataframe tbody tr th {\n",
       "        vertical-align: top;\n",
       "    }\n",
       "\n",
       "    .dataframe thead th {\n",
       "        text-align: right;\n",
       "    }\n",
       "</style>\n",
       "<table border=\"1\" class=\"dataframe\">\n",
       "  <thead>\n",
       "    <tr style=\"text-align: right;\">\n",
       "      <th></th>\n",
       "      <th>OriginalPrice (in Rs)</th>\n",
       "      <th>DiscountPrice (in Rs)</th>\n",
       "      <th>DiscountOffer</th>\n",
       "      <th>discount_seg_price</th>\n",
       "      <th>price_diff</th>\n",
       "      <th>discount_seg_%</th>\n",
       "    </tr>\n",
       "  </thead>\n",
       "  <tbody>\n",
       "    <tr>\n",
       "      <th>8</th>\n",
       "      <td>1098.0</td>\n",
       "      <td>NaN</td>\n",
       "      <td>0</td>\n",
       "      <td>1098.0</td>\n",
       "      <td>0.0</td>\n",
       "      <td>0.0</td>\n",
       "    </tr>\n",
       "    <tr>\n",
       "      <th>9</th>\n",
       "      <td>2749.0</td>\n",
       "      <td>NaN</td>\n",
       "      <td>0</td>\n",
       "      <td>2749.0</td>\n",
       "      <td>0.0</td>\n",
       "      <td>0.0</td>\n",
       "    </tr>\n",
       "    <tr>\n",
       "      <th>11</th>\n",
       "      <td>699.0</td>\n",
       "      <td>NaN</td>\n",
       "      <td>0</td>\n",
       "      <td>699.0</td>\n",
       "      <td>0.0</td>\n",
       "      <td>0.0</td>\n",
       "    </tr>\n",
       "    <tr>\n",
       "      <th>17</th>\n",
       "      <td>3999.0</td>\n",
       "      <td>NaN</td>\n",
       "      <td>0</td>\n",
       "      <td>3999.0</td>\n",
       "      <td>0.0</td>\n",
       "      <td>0.0</td>\n",
       "    </tr>\n",
       "    <tr>\n",
       "      <th>20</th>\n",
       "      <td>1298.0</td>\n",
       "      <td>NaN</td>\n",
       "      <td>0</td>\n",
       "      <td>1298.0</td>\n",
       "      <td>0.0</td>\n",
       "      <td>0.0</td>\n",
       "    </tr>\n",
       "    <tr>\n",
       "      <th>...</th>\n",
       "      <td>...</td>\n",
       "      <td>...</td>\n",
       "      <td>...</td>\n",
       "      <td>...</td>\n",
       "      <td>...</td>\n",
       "      <td>...</td>\n",
       "    </tr>\n",
       "    <tr>\n",
       "      <th>503949</th>\n",
       "      <td>7199.0</td>\n",
       "      <td>NaN</td>\n",
       "      <td>Rs. 4000 OFF</td>\n",
       "      <td>3199.0</td>\n",
       "      <td>4000.0</td>\n",
       "      <td>56.0</td>\n",
       "    </tr>\n",
       "    <tr>\n",
       "      <th>503950</th>\n",
       "      <td>7199.0</td>\n",
       "      <td>NaN</td>\n",
       "      <td>Rs. 4900 OFF</td>\n",
       "      <td>2299.0</td>\n",
       "      <td>4900.0</td>\n",
       "      <td>68.0</td>\n",
       "    </tr>\n",
       "    <tr>\n",
       "      <th>504004</th>\n",
       "      <td>7399.0</td>\n",
       "      <td>NaN</td>\n",
       "      <td>Rs. 5100 OFF</td>\n",
       "      <td>2299.0</td>\n",
       "      <td>5100.0</td>\n",
       "      <td>69.0</td>\n",
       "    </tr>\n",
       "    <tr>\n",
       "      <th>504178</th>\n",
       "      <td>7599.0</td>\n",
       "      <td>NaN</td>\n",
       "      <td>Rs. 4200 OFF</td>\n",
       "      <td>3399.0</td>\n",
       "      <td>4200.0</td>\n",
       "      <td>55.0</td>\n",
       "    </tr>\n",
       "    <tr>\n",
       "      <th>504193</th>\n",
       "      <td>7699.0</td>\n",
       "      <td>NaN</td>\n",
       "      <td>Rs. 3499 OFF</td>\n",
       "      <td>4200.0</td>\n",
       "      <td>3499.0</td>\n",
       "      <td>45.0</td>\n",
       "    </tr>\n",
       "  </tbody>\n",
       "</table>\n",
       "<p>193158 rows × 6 columns</p>\n",
       "</div>"
      ],
      "text/plain": [
       "        OriginalPrice (in Rs)  DiscountPrice (in Rs) DiscountOffer  \\\n",
       "8                      1098.0                    NaN             0   \n",
       "9                      2749.0                    NaN             0   \n",
       "11                      699.0                    NaN             0   \n",
       "17                     3999.0                    NaN             0   \n",
       "20                     1298.0                    NaN             0   \n",
       "...                       ...                    ...           ...   \n",
       "503949                 7199.0                    NaN  Rs. 4000 OFF   \n",
       "503950                 7199.0                    NaN  Rs. 4900 OFF   \n",
       "504004                 7399.0                    NaN  Rs. 5100 OFF   \n",
       "504178                 7599.0                    NaN  Rs. 4200 OFF   \n",
       "504193                 7699.0                    NaN  Rs. 3499 OFF   \n",
       "\n",
       "        discount_seg_price  price_diff  discount_seg_%  \n",
       "8                   1098.0         0.0             0.0  \n",
       "9                   2749.0         0.0             0.0  \n",
       "11                   699.0         0.0             0.0  \n",
       "17                  3999.0         0.0             0.0  \n",
       "20                  1298.0         0.0             0.0  \n",
       "...                    ...         ...             ...  \n",
       "503949              3199.0      4000.0            56.0  \n",
       "503950              2299.0      4900.0            68.0  \n",
       "504004              2299.0      5100.0            69.0  \n",
       "504178              3399.0      4200.0            55.0  \n",
       "504193              4200.0      3499.0            45.0  \n",
       "\n",
       "[193158 rows x 6 columns]"
      ]
     },
     "execution_count": 123,
     "metadata": {},
     "output_type": "execute_result"
    }
   ],
   "source": [
    "# Now we have found the proper output variable \n",
    "data_DP_null[['OriginalPrice (in Rs)',\n",
    "              'DiscountPrice (in Rs)',\n",
    "              'DiscountOffer',\n",
    "              'discount_seg_price',\n",
    "              'price_diff',\n",
    "              'discount_seg_%'\n",
    "             ]\n",
    "            ]"
   ]
  },
  {
   "cell_type": "code",
   "execution_count": 124,
   "id": "0ad0c986",
   "metadata": {},
   "outputs": [],
   "source": [
    "# deleting unnecessary columns\n",
    "\n",
    "del data_DP_null['price_diff']\n",
    "del data_DP_null['DiscountOffer_len']\n",
    "del data_DP_null['discount_seg']"
   ]
  },
  {
   "cell_type": "code",
   "execution_count": 125,
   "id": "cb17e571",
   "metadata": {},
   "outputs": [],
   "source": [
    "# lets calculate the discount_seg_% now\n",
    "data_DP_not_null['discount_seg_%'] = round(data_DP_not_null['DiscountPrice (in Rs)']*100/data_DP_not_null['OriginalPrice (in Rs)'])"
   ]
  },
  {
   "cell_type": "code",
   "execution_count": 126,
   "id": "380ffe56",
   "metadata": {},
   "outputs": [
    {
     "data": {
      "text/plain": [
       "BrandName                 object\n",
       "Category                  object\n",
       "Individual_category       object\n",
       "category_by_Gender        object\n",
       "DiscountPrice (in Rs)    float64\n",
       "OriginalPrice (in Rs)    float64\n",
       "DiscountOffer             object\n",
       "SizeOption                object\n",
       "Ratings                  float64\n",
       "Reviews                  float64\n",
       "discount_seg_%           float64\n",
       "dtype: object"
      ]
     },
     "execution_count": 126,
     "metadata": {},
     "output_type": "execute_result"
    }
   ],
   "source": [
    "data_DP_not_null.dtypes\n"
   ]
  },
  {
   "cell_type": "code",
   "execution_count": 127,
   "id": "75eda5e1",
   "metadata": {},
   "outputs": [],
   "source": [
    "# lets calculate the discount_seg_% now\n",
    "data_DP_not_null['price_diff'] = data_DP_not_null['OriginalPrice (in Rs)']-data_DP_not_null['DiscountPrice (in Rs)']\n",
    "data_DP_not_null['discount_seg_%'] = round(data_DP_not_null['price_diff']*100/data_DP_not_null['OriginalPrice (in Rs)'])"
   ]
  },
  {
   "cell_type": "code",
   "execution_count": 128,
   "id": "39e8cce3",
   "metadata": {},
   "outputs": [
    {
     "data": {
      "text/html": [
       "<div>\n",
       "<style scoped>\n",
       "    .dataframe tbody tr th:only-of-type {\n",
       "        vertical-align: middle;\n",
       "    }\n",
       "\n",
       "    .dataframe tbody tr th {\n",
       "        vertical-align: top;\n",
       "    }\n",
       "\n",
       "    .dataframe thead th {\n",
       "        text-align: right;\n",
       "    }\n",
       "</style>\n",
       "<table border=\"1\" class=\"dataframe\">\n",
       "  <thead>\n",
       "    <tr style=\"text-align: right;\">\n",
       "      <th></th>\n",
       "      <th>OriginalPrice (in Rs)</th>\n",
       "      <th>DiscountPrice (in Rs)</th>\n",
       "      <th>price_diff</th>\n",
       "      <th>discount_seg_%</th>\n",
       "    </tr>\n",
       "  </thead>\n",
       "  <tbody>\n",
       "    <tr>\n",
       "      <th>0</th>\n",
       "      <td>1499.0</td>\n",
       "      <td>824.0</td>\n",
       "      <td>675.0</td>\n",
       "      <td>45.0</td>\n",
       "    </tr>\n",
       "    <tr>\n",
       "      <th>1</th>\n",
       "      <td>1149.0</td>\n",
       "      <td>517.0</td>\n",
       "      <td>632.0</td>\n",
       "      <td>55.0</td>\n",
       "    </tr>\n",
       "    <tr>\n",
       "      <th>2</th>\n",
       "      <td>1399.0</td>\n",
       "      <td>629.0</td>\n",
       "      <td>770.0</td>\n",
       "      <td>55.0</td>\n",
       "    </tr>\n",
       "    <tr>\n",
       "      <th>3</th>\n",
       "      <td>1295.0</td>\n",
       "      <td>893.0</td>\n",
       "      <td>402.0</td>\n",
       "      <td>31.0</td>\n",
       "    </tr>\n",
       "    <tr>\n",
       "      <th>6</th>\n",
       "      <td>1499.0</td>\n",
       "      <td>599.0</td>\n",
       "      <td>900.0</td>\n",
       "      <td>60.0</td>\n",
       "    </tr>\n",
       "    <tr>\n",
       "      <th>...</th>\n",
       "      <td>...</td>\n",
       "      <td>...</td>\n",
       "      <td>...</td>\n",
       "      <td>...</td>\n",
       "    </tr>\n",
       "    <tr>\n",
       "      <th>443936</th>\n",
       "      <td>1010.0</td>\n",
       "      <td>464.0</td>\n",
       "      <td>546.0</td>\n",
       "      <td>54.0</td>\n",
       "    </tr>\n",
       "    <tr>\n",
       "      <th>443937</th>\n",
       "      <td>1010.0</td>\n",
       "      <td>464.0</td>\n",
       "      <td>546.0</td>\n",
       "      <td>54.0</td>\n",
       "    </tr>\n",
       "    <tr>\n",
       "      <th>443938</th>\n",
       "      <td>1010.0</td>\n",
       "      <td>464.0</td>\n",
       "      <td>546.0</td>\n",
       "      <td>54.0</td>\n",
       "    </tr>\n",
       "    <tr>\n",
       "      <th>443939</th>\n",
       "      <td>1010.0</td>\n",
       "      <td>464.0</td>\n",
       "      <td>546.0</td>\n",
       "      <td>54.0</td>\n",
       "    </tr>\n",
       "    <tr>\n",
       "      <th>443940</th>\n",
       "      <td>1015.0</td>\n",
       "      <td>558.0</td>\n",
       "      <td>457.0</td>\n",
       "      <td>45.0</td>\n",
       "    </tr>\n",
       "  </tbody>\n",
       "</table>\n",
       "<p>333406 rows × 4 columns</p>\n",
       "</div>"
      ],
      "text/plain": [
       "        OriginalPrice (in Rs)  DiscountPrice (in Rs)  price_diff  \\\n",
       "0                      1499.0                  824.0       675.0   \n",
       "1                      1149.0                  517.0       632.0   \n",
       "2                      1399.0                  629.0       770.0   \n",
       "3                      1295.0                  893.0       402.0   \n",
       "6                      1499.0                  599.0       900.0   \n",
       "...                       ...                    ...         ...   \n",
       "443936                 1010.0                  464.0       546.0   \n",
       "443937                 1010.0                  464.0       546.0   \n",
       "443938                 1010.0                  464.0       546.0   \n",
       "443939                 1010.0                  464.0       546.0   \n",
       "443940                 1015.0                  558.0       457.0   \n",
       "\n",
       "        discount_seg_%  \n",
       "0                 45.0  \n",
       "1                 55.0  \n",
       "2                 55.0  \n",
       "3                 31.0  \n",
       "6                 60.0  \n",
       "...                ...  \n",
       "443936            54.0  \n",
       "443937            54.0  \n",
       "443938            54.0  \n",
       "443939            54.0  \n",
       "443940            45.0  \n",
       "\n",
       "[333406 rows x 4 columns]"
      ]
     },
     "execution_count": 128,
     "metadata": {},
     "output_type": "execute_result"
    }
   ],
   "source": [
    "data_DP_not_null[['OriginalPrice (in Rs)','DiscountPrice (in Rs)','price_diff','discount_seg_%']]\n"
   ]
  },
  {
   "cell_type": "code",
   "execution_count": 129,
   "id": "cf7fc91d",
   "metadata": {},
   "outputs": [
    {
     "data": {
      "text/html": [
       "<div>\n",
       "<style scoped>\n",
       "    .dataframe tbody tr th:only-of-type {\n",
       "        vertical-align: middle;\n",
       "    }\n",
       "\n",
       "    .dataframe tbody tr th {\n",
       "        vertical-align: top;\n",
       "    }\n",
       "\n",
       "    .dataframe thead th {\n",
       "        text-align: right;\n",
       "    }\n",
       "</style>\n",
       "<table border=\"1\" class=\"dataframe\">\n",
       "  <thead>\n",
       "    <tr style=\"text-align: right;\">\n",
       "      <th></th>\n",
       "      <th>BrandName</th>\n",
       "      <th>Category</th>\n",
       "      <th>Individual_category</th>\n",
       "      <th>category_by_Gender</th>\n",
       "      <th>DiscountPrice (in Rs)</th>\n",
       "      <th>OriginalPrice (in Rs)</th>\n",
       "      <th>DiscountOffer</th>\n",
       "      <th>SizeOption</th>\n",
       "      <th>Ratings</th>\n",
       "      <th>Reviews</th>\n",
       "      <th>discount_seg_%</th>\n",
       "      <th>price_diff</th>\n",
       "    </tr>\n",
       "  </thead>\n",
       "  <tbody>\n",
       "    <tr>\n",
       "      <th>0</th>\n",
       "      <td>Roadster</td>\n",
       "      <td>Bottom Wear</td>\n",
       "      <td>jeans</td>\n",
       "      <td>Men</td>\n",
       "      <td>824.0</td>\n",
       "      <td>1499.0</td>\n",
       "      <td>45% OFF</td>\n",
       "      <td>28, 30, 32, 34, 36</td>\n",
       "      <td>3.9</td>\n",
       "      <td>999.0</td>\n",
       "      <td>45.0</td>\n",
       "      <td>675.0</td>\n",
       "    </tr>\n",
       "    <tr>\n",
       "      <th>1</th>\n",
       "      <td>LOCOMOTIVE</td>\n",
       "      <td>Bottom Wear</td>\n",
       "      <td>track-pants</td>\n",
       "      <td>Men</td>\n",
       "      <td>517.0</td>\n",
       "      <td>1149.0</td>\n",
       "      <td>55% OFF</td>\n",
       "      <td>S, M, L, XL</td>\n",
       "      <td>4.0</td>\n",
       "      <td>999.0</td>\n",
       "      <td>55.0</td>\n",
       "      <td>632.0</td>\n",
       "    </tr>\n",
       "    <tr>\n",
       "      <th>2</th>\n",
       "      <td>Roadster</td>\n",
       "      <td>Topwear</td>\n",
       "      <td>shirts</td>\n",
       "      <td>Men</td>\n",
       "      <td>629.0</td>\n",
       "      <td>1399.0</td>\n",
       "      <td>55% OFF</td>\n",
       "      <td>38, 40, 42, 44, 46, 48</td>\n",
       "      <td>4.3</td>\n",
       "      <td>999.0</td>\n",
       "      <td>55.0</td>\n",
       "      <td>770.0</td>\n",
       "    </tr>\n",
       "    <tr>\n",
       "      <th>3</th>\n",
       "      <td>Zivame</td>\n",
       "      <td>Lingerie &amp; Sleep Wear</td>\n",
       "      <td>shapewear</td>\n",
       "      <td>Women</td>\n",
       "      <td>893.0</td>\n",
       "      <td>1295.0</td>\n",
       "      <td>31% OFF</td>\n",
       "      <td>S, M, L, XL, XXL</td>\n",
       "      <td>4.2</td>\n",
       "      <td>999.0</td>\n",
       "      <td>31.0</td>\n",
       "      <td>402.0</td>\n",
       "    </tr>\n",
       "    <tr>\n",
       "      <th>6</th>\n",
       "      <td>HIGHLANDER</td>\n",
       "      <td>Bottom Wear</td>\n",
       "      <td>trousers</td>\n",
       "      <td>Men</td>\n",
       "      <td>599.0</td>\n",
       "      <td>1499.0</td>\n",
       "      <td>60% OFF</td>\n",
       "      <td>30, 32, 34, 36</td>\n",
       "      <td>3.9</td>\n",
       "      <td>998.0</td>\n",
       "      <td>60.0</td>\n",
       "      <td>900.0</td>\n",
       "    </tr>\n",
       "  </tbody>\n",
       "</table>\n",
       "</div>"
      ],
      "text/plain": [
       "    BrandName               Category Individual_category category_by_Gender  \\\n",
       "0    Roadster            Bottom Wear               jeans                Men   \n",
       "1  LOCOMOTIVE            Bottom Wear         track-pants                Men   \n",
       "2    Roadster                Topwear              shirts                Men   \n",
       "3      Zivame  Lingerie & Sleep Wear           shapewear              Women   \n",
       "6  HIGHLANDER            Bottom Wear            trousers                Men   \n",
       "\n",
       "   DiscountPrice (in Rs)  OriginalPrice (in Rs) DiscountOffer  \\\n",
       "0                  824.0                 1499.0       45% OFF   \n",
       "1                  517.0                 1149.0       55% OFF   \n",
       "2                  629.0                 1399.0       55% OFF   \n",
       "3                  893.0                 1295.0       31% OFF   \n",
       "6                  599.0                 1499.0       60% OFF   \n",
       "\n",
       "               SizeOption  Ratings  Reviews  discount_seg_%  price_diff  \n",
       "0      28, 30, 32, 34, 36      3.9    999.0            45.0       675.0  \n",
       "1             S, M, L, XL      4.0    999.0            55.0       632.0  \n",
       "2  38, 40, 42, 44, 46, 48      4.3    999.0            55.0       770.0  \n",
       "3        S, M, L, XL, XXL      4.2    999.0            31.0       402.0  \n",
       "6          30, 32, 34, 36      3.9    998.0            60.0       900.0  "
      ]
     },
     "execution_count": 129,
     "metadata": {},
     "output_type": "execute_result"
    }
   ],
   "source": [
    "data_DP_not_null.head()\n"
   ]
  },
  {
   "cell_type": "code",
   "execution_count": 130,
   "id": "4a51d7c8",
   "metadata": {},
   "outputs": [
    {
     "name": "stdout",
     "output_type": "stream",
     "text": [
      "(526564, 10)\n"
     ]
    },
    {
     "data": {
      "text/html": [
       "<div>\n",
       "<style scoped>\n",
       "    .dataframe tbody tr th:only-of-type {\n",
       "        vertical-align: middle;\n",
       "    }\n",
       "\n",
       "    .dataframe tbody tr th {\n",
       "        vertical-align: top;\n",
       "    }\n",
       "\n",
       "    .dataframe thead th {\n",
       "        text-align: right;\n",
       "    }\n",
       "</style>\n",
       "<table border=\"1\" class=\"dataframe\">\n",
       "  <thead>\n",
       "    <tr style=\"text-align: right;\">\n",
       "      <th></th>\n",
       "      <th>BrandName</th>\n",
       "      <th>Category</th>\n",
       "      <th>Individual_category</th>\n",
       "      <th>category_by_Gender</th>\n",
       "      <th>DiscountPrice (in Rs)</th>\n",
       "      <th>OriginalPrice (in Rs)</th>\n",
       "      <th>DiscountOffer</th>\n",
       "      <th>SizeOption</th>\n",
       "      <th>Ratings</th>\n",
       "      <th>Reviews</th>\n",
       "    </tr>\n",
       "  </thead>\n",
       "  <tbody>\n",
       "    <tr>\n",
       "      <th>0</th>\n",
       "      <td>Roadster</td>\n",
       "      <td>Bottom Wear</td>\n",
       "      <td>jeans</td>\n",
       "      <td>Men</td>\n",
       "      <td>824.0</td>\n",
       "      <td>1499.0</td>\n",
       "      <td>45% OFF</td>\n",
       "      <td>28, 30, 32, 34, 36</td>\n",
       "      <td>3.9</td>\n",
       "      <td>999.0</td>\n",
       "    </tr>\n",
       "    <tr>\n",
       "      <th>1</th>\n",
       "      <td>LOCOMOTIVE</td>\n",
       "      <td>Bottom Wear</td>\n",
       "      <td>track-pants</td>\n",
       "      <td>Men</td>\n",
       "      <td>517.0</td>\n",
       "      <td>1149.0</td>\n",
       "      <td>55% OFF</td>\n",
       "      <td>S, M, L, XL</td>\n",
       "      <td>4.0</td>\n",
       "      <td>999.0</td>\n",
       "    </tr>\n",
       "    <tr>\n",
       "      <th>2</th>\n",
       "      <td>Roadster</td>\n",
       "      <td>Topwear</td>\n",
       "      <td>shirts</td>\n",
       "      <td>Men</td>\n",
       "      <td>629.0</td>\n",
       "      <td>1399.0</td>\n",
       "      <td>55% OFF</td>\n",
       "      <td>38, 40, 42, 44, 46, 48</td>\n",
       "      <td>4.3</td>\n",
       "      <td>999.0</td>\n",
       "    </tr>\n",
       "    <tr>\n",
       "      <th>3</th>\n",
       "      <td>Zivame</td>\n",
       "      <td>Lingerie &amp; Sleep Wear</td>\n",
       "      <td>shapewear</td>\n",
       "      <td>Women</td>\n",
       "      <td>893.0</td>\n",
       "      <td>1295.0</td>\n",
       "      <td>31% OFF</td>\n",
       "      <td>S, M, L, XL, XXL</td>\n",
       "      <td>4.2</td>\n",
       "      <td>999.0</td>\n",
       "    </tr>\n",
       "    <tr>\n",
       "      <th>4</th>\n",
       "      <td>Roadster</td>\n",
       "      <td>Western</td>\n",
       "      <td>tshirts</td>\n",
       "      <td>Women</td>\n",
       "      <td>NaN</td>\n",
       "      <td>599.0</td>\n",
       "      <td>35% OFF</td>\n",
       "      <td>XS, S, M, L, XL</td>\n",
       "      <td>4.2</td>\n",
       "      <td>999.0</td>\n",
       "    </tr>\n",
       "  </tbody>\n",
       "</table>\n",
       "</div>"
      ],
      "text/plain": [
       "    BrandName               Category Individual_category category_by_Gender  \\\n",
       "0    Roadster            Bottom Wear               jeans                Men   \n",
       "1  LOCOMOTIVE            Bottom Wear         track-pants                Men   \n",
       "2    Roadster                Topwear              shirts                Men   \n",
       "3      Zivame  Lingerie & Sleep Wear           shapewear              Women   \n",
       "4    Roadster                Western             tshirts              Women   \n",
       "\n",
       "   DiscountPrice (in Rs)  OriginalPrice (in Rs) DiscountOffer  \\\n",
       "0                  824.0                 1499.0       45% OFF   \n",
       "1                  517.0                 1149.0       55% OFF   \n",
       "2                  629.0                 1399.0       55% OFF   \n",
       "3                  893.0                 1295.0       31% OFF   \n",
       "4                    NaN                  599.0       35% OFF   \n",
       "\n",
       "               SizeOption  Ratings  Reviews  \n",
       "0      28, 30, 32, 34, 36      3.9    999.0  \n",
       "1             S, M, L, XL      4.0    999.0  \n",
       "2  38, 40, 42, 44, 46, 48      4.3    999.0  \n",
       "3        S, M, L, XL, XXL      4.2    999.0  \n",
       "4         XS, S, M, L, XL      4.2    999.0  "
      ]
     },
     "execution_count": 130,
     "metadata": {},
     "output_type": "execute_result"
    }
   ],
   "source": [
    "# creating the original data again with the new column\n",
    "print(myntra.shape)\n",
    "myntra.head()"
   ]
  },
  {
   "cell_type": "code",
   "execution_count": 131,
   "id": "57ebe219",
   "metadata": {},
   "outputs": [
    {
     "name": "stdout",
     "output_type": "stream",
     "text": [
      "(526564, 13)\n"
     ]
    },
    {
     "data": {
      "text/html": [
       "<div>\n",
       "<style scoped>\n",
       "    .dataframe tbody tr th:only-of-type {\n",
       "        vertical-align: middle;\n",
       "    }\n",
       "\n",
       "    .dataframe tbody tr th {\n",
       "        vertical-align: top;\n",
       "    }\n",
       "\n",
       "    .dataframe thead th {\n",
       "        text-align: right;\n",
       "    }\n",
       "</style>\n",
       "<table border=\"1\" class=\"dataframe\">\n",
       "  <thead>\n",
       "    <tr style=\"text-align: right;\">\n",
       "      <th></th>\n",
       "      <th>BrandName</th>\n",
       "      <th>Category</th>\n",
       "      <th>Individual_category</th>\n",
       "      <th>category_by_Gender</th>\n",
       "      <th>DiscountPrice (in Rs)</th>\n",
       "      <th>OriginalPrice (in Rs)</th>\n",
       "      <th>DiscountOffer</th>\n",
       "      <th>SizeOption</th>\n",
       "      <th>Ratings</th>\n",
       "      <th>Reviews</th>\n",
       "      <th>discount_seg_price</th>\n",
       "      <th>discount_seg_%</th>\n",
       "      <th>price_diff</th>\n",
       "    </tr>\n",
       "  </thead>\n",
       "  <tbody>\n",
       "    <tr>\n",
       "      <th>8</th>\n",
       "      <td>Roadster</td>\n",
       "      <td>Western</td>\n",
       "      <td>tshirts</td>\n",
       "      <td>Women</td>\n",
       "      <td>NaN</td>\n",
       "      <td>1098.0</td>\n",
       "      <td>0</td>\n",
       "      <td>XS, S, M, L, XL</td>\n",
       "      <td>4.3</td>\n",
       "      <td>997.0</td>\n",
       "      <td>1098.0</td>\n",
       "      <td>0.0</td>\n",
       "      <td>NaN</td>\n",
       "    </tr>\n",
       "    <tr>\n",
       "      <th>9</th>\n",
       "      <td>HERE&amp;NOW</td>\n",
       "      <td>Bottom Wear</td>\n",
       "      <td>jeans</td>\n",
       "      <td>Men</td>\n",
       "      <td>NaN</td>\n",
       "      <td>2749.0</td>\n",
       "      <td>0</td>\n",
       "      <td>28, 30, 32, 34, 36</td>\n",
       "      <td>3.5</td>\n",
       "      <td>996.0</td>\n",
       "      <td>2749.0</td>\n",
       "      <td>0.0</td>\n",
       "      <td>NaN</td>\n",
       "    </tr>\n",
       "    <tr>\n",
       "      <th>11</th>\n",
       "      <td>Roadster</td>\n",
       "      <td>Topwear</td>\n",
       "      <td>tshirts</td>\n",
       "      <td>Men</td>\n",
       "      <td>NaN</td>\n",
       "      <td>699.0</td>\n",
       "      <td>0</td>\n",
       "      <td>XS, S, M, L, XL, XXL, 3XL, 4XL</td>\n",
       "      <td>4.1</td>\n",
       "      <td>996.0</td>\n",
       "      <td>699.0</td>\n",
       "      <td>0.0</td>\n",
       "      <td>NaN</td>\n",
       "    </tr>\n",
       "    <tr>\n",
       "      <th>17</th>\n",
       "      <td>Sangria</td>\n",
       "      <td>Plus Size</td>\n",
       "      <td>kurta-sets</td>\n",
       "      <td>Women</td>\n",
       "      <td>NaN</td>\n",
       "      <td>3999.0</td>\n",
       "      <td>0</td>\n",
       "      <td>XS, S, M, L, XL, XXL, 3XL</td>\n",
       "      <td>4.3</td>\n",
       "      <td>995.0</td>\n",
       "      <td>3999.0</td>\n",
       "      <td>0.0</td>\n",
       "      <td>NaN</td>\n",
       "    </tr>\n",
       "    <tr>\n",
       "      <th>20</th>\n",
       "      <td>Roadster</td>\n",
       "      <td>Western</td>\n",
       "      <td>tshirts</td>\n",
       "      <td>Women</td>\n",
       "      <td>NaN</td>\n",
       "      <td>1298.0</td>\n",
       "      <td>0</td>\n",
       "      <td>XS, S, M, L, XL</td>\n",
       "      <td>4.4</td>\n",
       "      <td>994.0</td>\n",
       "      <td>1298.0</td>\n",
       "      <td>0.0</td>\n",
       "      <td>NaN</td>\n",
       "    </tr>\n",
       "  </tbody>\n",
       "</table>\n",
       "</div>"
      ],
      "text/plain": [
       "   BrandName     Category Individual_category category_by_Gender  \\\n",
       "8   Roadster      Western             tshirts              Women   \n",
       "9   HERE&NOW  Bottom Wear               jeans                Men   \n",
       "11  Roadster      Topwear             tshirts                Men   \n",
       "17   Sangria    Plus Size          kurta-sets              Women   \n",
       "20  Roadster      Western             tshirts              Women   \n",
       "\n",
       "    DiscountPrice (in Rs)  OriginalPrice (in Rs) DiscountOffer  \\\n",
       "8                     NaN                 1098.0             0   \n",
       "9                     NaN                 2749.0             0   \n",
       "11                    NaN                  699.0             0   \n",
       "17                    NaN                 3999.0             0   \n",
       "20                    NaN                 1298.0             0   \n",
       "\n",
       "                        SizeOption  Ratings  Reviews  discount_seg_price  \\\n",
       "8                  XS, S, M, L, XL      4.3    997.0              1098.0   \n",
       "9               28, 30, 32, 34, 36      3.5    996.0              2749.0   \n",
       "11  XS, S, M, L, XL, XXL, 3XL, 4XL      4.1    996.0               699.0   \n",
       "17       XS, S, M, L, XL, XXL, 3XL      4.3    995.0              3999.0   \n",
       "20                 XS, S, M, L, XL      4.4    994.0              1298.0   \n",
       "\n",
       "    discount_seg_%  price_diff  \n",
       "8              0.0         NaN  \n",
       "9              0.0         NaN  \n",
       "11             0.0         NaN  \n",
       "17             0.0         NaN  \n",
       "20             0.0         NaN  "
      ]
     },
     "execution_count": 131,
     "metadata": {},
     "output_type": "execute_result"
    }
   ],
   "source": [
    "#making the new dataframe with no missing values\n",
    "data_new = pd.concat([data_DP_null,data_DP_not_null], axis=0)\n",
    "print(data_new.shape)\n",
    "data_new.head()"
   ]
  },
  {
   "cell_type": "code",
   "execution_count": 132,
   "id": "6616ddec",
   "metadata": {},
   "outputs": [
    {
     "data": {
      "text/plain": [
       "Index(['BrandName', 'Category', 'Individual_category', 'category_by_Gender',\n",
       "       'DiscountOffer', 'SizeOption'],\n",
       "      dtype='object')"
      ]
     },
     "execution_count": 132,
     "metadata": {},
     "output_type": "execute_result"
    }
   ],
   "source": [
    "##to check the object datatypes\n",
    "cols = data_new.select_dtypes([\"object\"])\n",
    "cols.columns"
   ]
  },
  {
   "cell_type": "code",
   "execution_count": 133,
   "id": "0250c9bf",
   "metadata": {},
   "outputs": [],
   "source": [
    "# changing object datatype to category\n",
    "for i in cols.columns:\n",
    "    data_new[i] = data_new[i].astype(\"category\")"
   ]
  },
  {
   "cell_type": "code",
   "execution_count": 134,
   "id": "6ede7584",
   "metadata": {},
   "outputs": [],
   "source": [
    "#Creating a new variable called selling price taking into account the discount price and discount_seg \n",
    "#as the missing values in discount price is in discount_seg\n",
    "data_new['DiscountPrice (in Rs)'] = data_new['DiscountPrice (in Rs)'].fillna(data_new[\"discount_seg_price\"])"
   ]
  },
  {
   "cell_type": "code",
   "execution_count": 135,
   "id": "20138b12",
   "metadata": {},
   "outputs": [],
   "source": [
    "#dropping DiscountPrice (in Rs), discount offer and discount_seg_price as we have made variables for them \n",
    "data_new.drop([\"DiscountOffer\",\"discount_seg_price\",\"price_diff\"], axis=1, inplace=True)"
   ]
  },
  {
   "cell_type": "code",
   "execution_count": 136,
   "id": "f1ed456e",
   "metadata": {},
   "outputs": [],
   "source": [
    "#making bins for brand which has sold less than 1000 units\n",
    "b=data_new['BrandName'].value_counts()\n",
    "brandslessthan1000=b[b<1000]"
   ]
  },
  {
   "cell_type": "code",
   "execution_count": 137,
   "id": "38a376ee",
   "metadata": {},
   "outputs": [
    {
     "data": {
      "text/plain": [
       "Others       257766\n",
       "Pothys        16005\n",
       "Roadster      10935\n",
       "KALINI         9589\n",
       "HERE&NOW       6515\n",
       "              ...  \n",
       "MIMOSA         1029\n",
       "Harpa          1028\n",
       "VASTRAMAY      1026\n",
       "FREESOUL       1018\n",
       "Okane          1012\n",
       "Name: Brandsnew, Length: 119, dtype: int64"
      ]
     },
     "execution_count": 137,
     "metadata": {},
     "output_type": "execute_result"
    }
   ],
   "source": [
    "def handlingBrandName(value):\n",
    "    if value in brandslessthan1000:\n",
    "        return \"Others\"\n",
    "    else :\n",
    "        return value\n",
    "data_new[\"Brandsnew\"] = data_new[\"BrandName\"].apply(handlingBrandName)\n",
    "data_new[\"Brandsnew\"].value_counts()"
   ]
  },
  {
   "cell_type": "code",
   "execution_count": 138,
   "id": "642ab2ba",
   "metadata": {},
   "outputs": [],
   "source": [
    "# imputation of missing values from ratings and reviews coloumn by interative imputer\n",
    "from sklearn.experimental import enable_iterative_imputer\n",
    "from sklearn.impute import IterativeImputer\n",
    "imputer = IterativeImputer(max_iter=10000,random_state=0,n_nearest_features=7)\n",
    "cols=['Ratings','Reviews']\n",
    "data_new[cols]=imputer.fit_transform(data_new[cols])"
   ]
  },
  {
   "cell_type": "code",
   "execution_count": 139,
   "id": "aad9fc2f",
   "metadata": {},
   "outputs": [],
   "source": [
    "# dropping brandname as we have new we have created a new vairable brandsnew and \n",
    "# dropping individual category as it has its attributes in category coloumn\n",
    "data_new.drop([\"BrandName\"], axis=1, inplace=True)"
   ]
  },
  {
   "cell_type": "code",
   "execution_count": 140,
   "id": "bb3ba482",
   "metadata": {},
   "outputs": [
    {
     "data": {
      "text/html": [
       "<div>\n",
       "<style scoped>\n",
       "    .dataframe tbody tr th:only-of-type {\n",
       "        vertical-align: middle;\n",
       "    }\n",
       "\n",
       "    .dataframe tbody tr th {\n",
       "        vertical-align: top;\n",
       "    }\n",
       "\n",
       "    .dataframe thead th {\n",
       "        text-align: right;\n",
       "    }\n",
       "</style>\n",
       "<table border=\"1\" class=\"dataframe\">\n",
       "  <thead>\n",
       "    <tr style=\"text-align: right;\">\n",
       "      <th></th>\n",
       "      <th>Category</th>\n",
       "      <th>Individual_category</th>\n",
       "      <th>category_by_Gender</th>\n",
       "      <th>DiscountPrice (in Rs)</th>\n",
       "      <th>OriginalPrice (in Rs)</th>\n",
       "      <th>SizeOption</th>\n",
       "      <th>Ratings</th>\n",
       "      <th>Reviews</th>\n",
       "      <th>discount_seg_%</th>\n",
       "      <th>Brandsnew</th>\n",
       "    </tr>\n",
       "  </thead>\n",
       "  <tbody>\n",
       "    <tr>\n",
       "      <th>8</th>\n",
       "      <td>Western</td>\n",
       "      <td>tshirts</td>\n",
       "      <td>Women</td>\n",
       "      <td>1098.0</td>\n",
       "      <td>1098.0</td>\n",
       "      <td>XS, S, M, L, XL</td>\n",
       "      <td>4.300000</td>\n",
       "      <td>997.00000</td>\n",
       "      <td>0.0</td>\n",
       "      <td>Roadster</td>\n",
       "    </tr>\n",
       "    <tr>\n",
       "      <th>9</th>\n",
       "      <td>Bottom Wear</td>\n",
       "      <td>jeans</td>\n",
       "      <td>Men</td>\n",
       "      <td>2749.0</td>\n",
       "      <td>2749.0</td>\n",
       "      <td>28, 30, 32, 34, 36</td>\n",
       "      <td>3.500000</td>\n",
       "      <td>996.00000</td>\n",
       "      <td>0.0</td>\n",
       "      <td>HERE&amp;NOW</td>\n",
       "    </tr>\n",
       "    <tr>\n",
       "      <th>11</th>\n",
       "      <td>Topwear</td>\n",
       "      <td>tshirts</td>\n",
       "      <td>Men</td>\n",
       "      <td>699.0</td>\n",
       "      <td>699.0</td>\n",
       "      <td>XS, S, M, L, XL, XXL, 3XL, 4XL</td>\n",
       "      <td>4.100000</td>\n",
       "      <td>996.00000</td>\n",
       "      <td>0.0</td>\n",
       "      <td>Roadster</td>\n",
       "    </tr>\n",
       "    <tr>\n",
       "      <th>17</th>\n",
       "      <td>Plus Size</td>\n",
       "      <td>kurta-sets</td>\n",
       "      <td>Women</td>\n",
       "      <td>3999.0</td>\n",
       "      <td>3999.0</td>\n",
       "      <td>XS, S, M, L, XL, XXL, 3XL</td>\n",
       "      <td>4.300000</td>\n",
       "      <td>995.00000</td>\n",
       "      <td>0.0</td>\n",
       "      <td>Sangria</td>\n",
       "    </tr>\n",
       "    <tr>\n",
       "      <th>20</th>\n",
       "      <td>Western</td>\n",
       "      <td>tshirts</td>\n",
       "      <td>Women</td>\n",
       "      <td>1298.0</td>\n",
       "      <td>1298.0</td>\n",
       "      <td>XS, S, M, L, XL</td>\n",
       "      <td>4.400000</td>\n",
       "      <td>994.00000</td>\n",
       "      <td>0.0</td>\n",
       "      <td>Roadster</td>\n",
       "    </tr>\n",
       "    <tr>\n",
       "      <th>...</th>\n",
       "      <td>...</td>\n",
       "      <td>...</td>\n",
       "      <td>...</td>\n",
       "      <td>...</td>\n",
       "      <td>...</td>\n",
       "      <td>...</td>\n",
       "      <td>...</td>\n",
       "      <td>...</td>\n",
       "      <td>...</td>\n",
       "      <td>...</td>\n",
       "    </tr>\n",
       "    <tr>\n",
       "      <th>443936</th>\n",
       "      <td>Western</td>\n",
       "      <td>tops</td>\n",
       "      <td>Women</td>\n",
       "      <td>464.0</td>\n",
       "      <td>1010.0</td>\n",
       "      <td>S, M, L</td>\n",
       "      <td>4.094892</td>\n",
       "      <td>61.99082</td>\n",
       "      <td>54.0</td>\n",
       "      <td>Others</td>\n",
       "    </tr>\n",
       "    <tr>\n",
       "      <th>443937</th>\n",
       "      <td>Western</td>\n",
       "      <td>tops</td>\n",
       "      <td>Women</td>\n",
       "      <td>464.0</td>\n",
       "      <td>1010.0</td>\n",
       "      <td>S, M, L</td>\n",
       "      <td>4.094892</td>\n",
       "      <td>61.99082</td>\n",
       "      <td>54.0</td>\n",
       "      <td>Others</td>\n",
       "    </tr>\n",
       "    <tr>\n",
       "      <th>443938</th>\n",
       "      <td>Western</td>\n",
       "      <td>tops</td>\n",
       "      <td>Women</td>\n",
       "      <td>464.0</td>\n",
       "      <td>1010.0</td>\n",
       "      <td>S, M, L</td>\n",
       "      <td>4.094892</td>\n",
       "      <td>61.99082</td>\n",
       "      <td>54.0</td>\n",
       "      <td>Others</td>\n",
       "    </tr>\n",
       "    <tr>\n",
       "      <th>443939</th>\n",
       "      <td>Western</td>\n",
       "      <td>tops</td>\n",
       "      <td>Women</td>\n",
       "      <td>464.0</td>\n",
       "      <td>1010.0</td>\n",
       "      <td>S, M, L</td>\n",
       "      <td>4.094892</td>\n",
       "      <td>61.99082</td>\n",
       "      <td>54.0</td>\n",
       "      <td>Others</td>\n",
       "    </tr>\n",
       "    <tr>\n",
       "      <th>443940</th>\n",
       "      <td>Western</td>\n",
       "      <td>sweatshirts</td>\n",
       "      <td>Women</td>\n",
       "      <td>558.0</td>\n",
       "      <td>1015.0</td>\n",
       "      <td>XS, S, M, L, XL</td>\n",
       "      <td>4.094892</td>\n",
       "      <td>61.99082</td>\n",
       "      <td>45.0</td>\n",
       "      <td>Others</td>\n",
       "    </tr>\n",
       "  </tbody>\n",
       "</table>\n",
       "<p>526564 rows × 10 columns</p>\n",
       "</div>"
      ],
      "text/plain": [
       "           Category Individual_category category_by_Gender  \\\n",
       "8           Western             tshirts              Women   \n",
       "9       Bottom Wear               jeans                Men   \n",
       "11          Topwear             tshirts                Men   \n",
       "17        Plus Size          kurta-sets              Women   \n",
       "20          Western             tshirts              Women   \n",
       "...             ...                 ...                ...   \n",
       "443936      Western                tops              Women   \n",
       "443937      Western                tops              Women   \n",
       "443938      Western                tops              Women   \n",
       "443939      Western                tops              Women   \n",
       "443940      Western         sweatshirts              Women   \n",
       "\n",
       "        DiscountPrice (in Rs)  OriginalPrice (in Rs)  \\\n",
       "8                      1098.0                 1098.0   \n",
       "9                      2749.0                 2749.0   \n",
       "11                      699.0                  699.0   \n",
       "17                     3999.0                 3999.0   \n",
       "20                     1298.0                 1298.0   \n",
       "...                       ...                    ...   \n",
       "443936                  464.0                 1010.0   \n",
       "443937                  464.0                 1010.0   \n",
       "443938                  464.0                 1010.0   \n",
       "443939                  464.0                 1010.0   \n",
       "443940                  558.0                 1015.0   \n",
       "\n",
       "                            SizeOption   Ratings    Reviews  discount_seg_%  \\\n",
       "8                      XS, S, M, L, XL  4.300000  997.00000             0.0   \n",
       "9                   28, 30, 32, 34, 36  3.500000  996.00000             0.0   \n",
       "11      XS, S, M, L, XL, XXL, 3XL, 4XL  4.100000  996.00000             0.0   \n",
       "17           XS, S, M, L, XL, XXL, 3XL  4.300000  995.00000             0.0   \n",
       "20                     XS, S, M, L, XL  4.400000  994.00000             0.0   \n",
       "...                                ...       ...        ...             ...   \n",
       "443936                         S, M, L  4.094892   61.99082            54.0   \n",
       "443937                         S, M, L  4.094892   61.99082            54.0   \n",
       "443938                         S, M, L  4.094892   61.99082            54.0   \n",
       "443939                         S, M, L  4.094892   61.99082            54.0   \n",
       "443940                 XS, S, M, L, XL  4.094892   61.99082            45.0   \n",
       "\n",
       "       Brandsnew  \n",
       "8       Roadster  \n",
       "9       HERE&NOW  \n",
       "11      Roadster  \n",
       "17       Sangria  \n",
       "20      Roadster  \n",
       "...          ...  \n",
       "443936    Others  \n",
       "443937    Others  \n",
       "443938    Others  \n",
       "443939    Others  \n",
       "443940    Others  \n",
       "\n",
       "[526564 rows x 10 columns]"
      ]
     },
     "execution_count": 140,
     "metadata": {},
     "output_type": "execute_result"
    }
   ],
   "source": [
    "# copying the new dataframe to copy my data\n",
    "df1 = data_new.copy()\n",
    "df1"
   ]
  },
  {
   "cell_type": "code",
   "execution_count": 141,
   "id": "859bb48b",
   "metadata": {},
   "outputs": [],
   "source": [
    "# getting dummmies for categorical variables\n",
    "df1_encoded = pd.get_dummies(df1)"
   ]
  },
  {
   "cell_type": "code",
   "execution_count": 142,
   "id": "47b1d07f",
   "metadata": {},
   "outputs": [],
   "source": [
    "# splitting the dataset\n",
    "X = df1_encoded.drop('Ratings',axis=1)\n",
    "y = df1_encoded['Ratings']"
   ]
  },
  {
   "cell_type": "code",
   "execution_count": 144,
   "id": "2a8bcad1",
   "metadata": {},
   "outputs": [
    {
     "data": {
      "text/html": [
       "<div>\n",
       "<style scoped>\n",
       "    .dataframe tbody tr th:only-of-type {\n",
       "        vertical-align: middle;\n",
       "    }\n",
       "\n",
       "    .dataframe tbody tr th {\n",
       "        vertical-align: top;\n",
       "    }\n",
       "\n",
       "    .dataframe thead th {\n",
       "        text-align: right;\n",
       "    }\n",
       "</style>\n",
       "<table border=\"1\" class=\"dataframe\">\n",
       "  <thead>\n",
       "    <tr style=\"text-align: right;\">\n",
       "      <th></th>\n",
       "      <th>DiscountPrice (in Rs)</th>\n",
       "      <th>OriginalPrice (in Rs)</th>\n",
       "      <th>Reviews</th>\n",
       "      <th>discount_seg_%</th>\n",
       "      <th>Category_Bottom Wear</th>\n",
       "      <th>Category_Indian Wear</th>\n",
       "      <th>Category_Inner Wear &amp;  Sleep Wear</th>\n",
       "      <th>Category_Lingerie &amp; Sleep Wear</th>\n",
       "      <th>Category_Plus Size</th>\n",
       "      <th>Category_Sports Wear</th>\n",
       "      <th>...</th>\n",
       "      <th>Brandsnew_WROGN</th>\n",
       "      <th>Brandsnew_XYXX</th>\n",
       "      <th>Brandsnew_ZALORA BASICS</th>\n",
       "      <th>Brandsnew_ZALORA WORK</th>\n",
       "      <th>Brandsnew_ZOLA</th>\n",
       "      <th>Brandsnew_Zivame</th>\n",
       "      <th>Brandsnew_all about you</th>\n",
       "      <th>Brandsnew_ether</th>\n",
       "      <th>Brandsnew_max</th>\n",
       "      <th>Brandsnew_plusS</th>\n",
       "    </tr>\n",
       "  </thead>\n",
       "  <tbody>\n",
       "    <tr>\n",
       "      <th>8</th>\n",
       "      <td>1098.0</td>\n",
       "      <td>1098.0</td>\n",
       "      <td>997.00000</td>\n",
       "      <td>0.0</td>\n",
       "      <td>0</td>\n",
       "      <td>0</td>\n",
       "      <td>0</td>\n",
       "      <td>0</td>\n",
       "      <td>0</td>\n",
       "      <td>0</td>\n",
       "      <td>...</td>\n",
       "      <td>0</td>\n",
       "      <td>0</td>\n",
       "      <td>0</td>\n",
       "      <td>0</td>\n",
       "      <td>0</td>\n",
       "      <td>0</td>\n",
       "      <td>0</td>\n",
       "      <td>0</td>\n",
       "      <td>0</td>\n",
       "      <td>0</td>\n",
       "    </tr>\n",
       "    <tr>\n",
       "      <th>9</th>\n",
       "      <td>2749.0</td>\n",
       "      <td>2749.0</td>\n",
       "      <td>996.00000</td>\n",
       "      <td>0.0</td>\n",
       "      <td>1</td>\n",
       "      <td>0</td>\n",
       "      <td>0</td>\n",
       "      <td>0</td>\n",
       "      <td>0</td>\n",
       "      <td>0</td>\n",
       "      <td>...</td>\n",
       "      <td>0</td>\n",
       "      <td>0</td>\n",
       "      <td>0</td>\n",
       "      <td>0</td>\n",
       "      <td>0</td>\n",
       "      <td>0</td>\n",
       "      <td>0</td>\n",
       "      <td>0</td>\n",
       "      <td>0</td>\n",
       "      <td>0</td>\n",
       "    </tr>\n",
       "    <tr>\n",
       "      <th>11</th>\n",
       "      <td>699.0</td>\n",
       "      <td>699.0</td>\n",
       "      <td>996.00000</td>\n",
       "      <td>0.0</td>\n",
       "      <td>0</td>\n",
       "      <td>0</td>\n",
       "      <td>0</td>\n",
       "      <td>0</td>\n",
       "      <td>0</td>\n",
       "      <td>0</td>\n",
       "      <td>...</td>\n",
       "      <td>0</td>\n",
       "      <td>0</td>\n",
       "      <td>0</td>\n",
       "      <td>0</td>\n",
       "      <td>0</td>\n",
       "      <td>0</td>\n",
       "      <td>0</td>\n",
       "      <td>0</td>\n",
       "      <td>0</td>\n",
       "      <td>0</td>\n",
       "    </tr>\n",
       "    <tr>\n",
       "      <th>17</th>\n",
       "      <td>3999.0</td>\n",
       "      <td>3999.0</td>\n",
       "      <td>995.00000</td>\n",
       "      <td>0.0</td>\n",
       "      <td>0</td>\n",
       "      <td>0</td>\n",
       "      <td>0</td>\n",
       "      <td>0</td>\n",
       "      <td>1</td>\n",
       "      <td>0</td>\n",
       "      <td>...</td>\n",
       "      <td>0</td>\n",
       "      <td>0</td>\n",
       "      <td>0</td>\n",
       "      <td>0</td>\n",
       "      <td>0</td>\n",
       "      <td>0</td>\n",
       "      <td>0</td>\n",
       "      <td>0</td>\n",
       "      <td>0</td>\n",
       "      <td>0</td>\n",
       "    </tr>\n",
       "    <tr>\n",
       "      <th>20</th>\n",
       "      <td>1298.0</td>\n",
       "      <td>1298.0</td>\n",
       "      <td>994.00000</td>\n",
       "      <td>0.0</td>\n",
       "      <td>0</td>\n",
       "      <td>0</td>\n",
       "      <td>0</td>\n",
       "      <td>0</td>\n",
       "      <td>0</td>\n",
       "      <td>0</td>\n",
       "      <td>...</td>\n",
       "      <td>0</td>\n",
       "      <td>0</td>\n",
       "      <td>0</td>\n",
       "      <td>0</td>\n",
       "      <td>0</td>\n",
       "      <td>0</td>\n",
       "      <td>0</td>\n",
       "      <td>0</td>\n",
       "      <td>0</td>\n",
       "      <td>0</td>\n",
       "    </tr>\n",
       "    <tr>\n",
       "      <th>...</th>\n",
       "      <td>...</td>\n",
       "      <td>...</td>\n",
       "      <td>...</td>\n",
       "      <td>...</td>\n",
       "      <td>...</td>\n",
       "      <td>...</td>\n",
       "      <td>...</td>\n",
       "      <td>...</td>\n",
       "      <td>...</td>\n",
       "      <td>...</td>\n",
       "      <td>...</td>\n",
       "      <td>...</td>\n",
       "      <td>...</td>\n",
       "      <td>...</td>\n",
       "      <td>...</td>\n",
       "      <td>...</td>\n",
       "      <td>...</td>\n",
       "      <td>...</td>\n",
       "      <td>...</td>\n",
       "      <td>...</td>\n",
       "      <td>...</td>\n",
       "    </tr>\n",
       "    <tr>\n",
       "      <th>443936</th>\n",
       "      <td>464.0</td>\n",
       "      <td>1010.0</td>\n",
       "      <td>61.99082</td>\n",
       "      <td>54.0</td>\n",
       "      <td>0</td>\n",
       "      <td>0</td>\n",
       "      <td>0</td>\n",
       "      <td>0</td>\n",
       "      <td>0</td>\n",
       "      <td>0</td>\n",
       "      <td>...</td>\n",
       "      <td>0</td>\n",
       "      <td>0</td>\n",
       "      <td>0</td>\n",
       "      <td>0</td>\n",
       "      <td>0</td>\n",
       "      <td>0</td>\n",
       "      <td>0</td>\n",
       "      <td>0</td>\n",
       "      <td>0</td>\n",
       "      <td>0</td>\n",
       "    </tr>\n",
       "    <tr>\n",
       "      <th>443937</th>\n",
       "      <td>464.0</td>\n",
       "      <td>1010.0</td>\n",
       "      <td>61.99082</td>\n",
       "      <td>54.0</td>\n",
       "      <td>0</td>\n",
       "      <td>0</td>\n",
       "      <td>0</td>\n",
       "      <td>0</td>\n",
       "      <td>0</td>\n",
       "      <td>0</td>\n",
       "      <td>...</td>\n",
       "      <td>0</td>\n",
       "      <td>0</td>\n",
       "      <td>0</td>\n",
       "      <td>0</td>\n",
       "      <td>0</td>\n",
       "      <td>0</td>\n",
       "      <td>0</td>\n",
       "      <td>0</td>\n",
       "      <td>0</td>\n",
       "      <td>0</td>\n",
       "    </tr>\n",
       "    <tr>\n",
       "      <th>443938</th>\n",
       "      <td>464.0</td>\n",
       "      <td>1010.0</td>\n",
       "      <td>61.99082</td>\n",
       "      <td>54.0</td>\n",
       "      <td>0</td>\n",
       "      <td>0</td>\n",
       "      <td>0</td>\n",
       "      <td>0</td>\n",
       "      <td>0</td>\n",
       "      <td>0</td>\n",
       "      <td>...</td>\n",
       "      <td>0</td>\n",
       "      <td>0</td>\n",
       "      <td>0</td>\n",
       "      <td>0</td>\n",
       "      <td>0</td>\n",
       "      <td>0</td>\n",
       "      <td>0</td>\n",
       "      <td>0</td>\n",
       "      <td>0</td>\n",
       "      <td>0</td>\n",
       "    </tr>\n",
       "    <tr>\n",
       "      <th>443939</th>\n",
       "      <td>464.0</td>\n",
       "      <td>1010.0</td>\n",
       "      <td>61.99082</td>\n",
       "      <td>54.0</td>\n",
       "      <td>0</td>\n",
       "      <td>0</td>\n",
       "      <td>0</td>\n",
       "      <td>0</td>\n",
       "      <td>0</td>\n",
       "      <td>0</td>\n",
       "      <td>...</td>\n",
       "      <td>0</td>\n",
       "      <td>0</td>\n",
       "      <td>0</td>\n",
       "      <td>0</td>\n",
       "      <td>0</td>\n",
       "      <td>0</td>\n",
       "      <td>0</td>\n",
       "      <td>0</td>\n",
       "      <td>0</td>\n",
       "      <td>0</td>\n",
       "    </tr>\n",
       "    <tr>\n",
       "      <th>443940</th>\n",
       "      <td>558.0</td>\n",
       "      <td>1015.0</td>\n",
       "      <td>61.99082</td>\n",
       "      <td>45.0</td>\n",
       "      <td>0</td>\n",
       "      <td>0</td>\n",
       "      <td>0</td>\n",
       "      <td>0</td>\n",
       "      <td>0</td>\n",
       "      <td>0</td>\n",
       "      <td>...</td>\n",
       "      <td>0</td>\n",
       "      <td>0</td>\n",
       "      <td>0</td>\n",
       "      <td>0</td>\n",
       "      <td>0</td>\n",
       "      <td>0</td>\n",
       "      <td>0</td>\n",
       "      <td>0</td>\n",
       "      <td>0</td>\n",
       "      <td>0</td>\n",
       "    </tr>\n",
       "  </tbody>\n",
       "</table>\n",
       "<p>526564 rows × 3813 columns</p>\n",
       "</div>"
      ],
      "text/plain": [
       "        DiscountPrice (in Rs)  OriginalPrice (in Rs)    Reviews  \\\n",
       "8                      1098.0                 1098.0  997.00000   \n",
       "9                      2749.0                 2749.0  996.00000   \n",
       "11                      699.0                  699.0  996.00000   \n",
       "17                     3999.0                 3999.0  995.00000   \n",
       "20                     1298.0                 1298.0  994.00000   \n",
       "...                       ...                    ...        ...   \n",
       "443936                  464.0                 1010.0   61.99082   \n",
       "443937                  464.0                 1010.0   61.99082   \n",
       "443938                  464.0                 1010.0   61.99082   \n",
       "443939                  464.0                 1010.0   61.99082   \n",
       "443940                  558.0                 1015.0   61.99082   \n",
       "\n",
       "        discount_seg_%  Category_Bottom Wear  Category_Indian Wear  \\\n",
       "8                  0.0                     0                     0   \n",
       "9                  0.0                     1                     0   \n",
       "11                 0.0                     0                     0   \n",
       "17                 0.0                     0                     0   \n",
       "20                 0.0                     0                     0   \n",
       "...                ...                   ...                   ...   \n",
       "443936            54.0                     0                     0   \n",
       "443937            54.0                     0                     0   \n",
       "443938            54.0                     0                     0   \n",
       "443939            54.0                     0                     0   \n",
       "443940            45.0                     0                     0   \n",
       "\n",
       "        Category_Inner Wear &  Sleep Wear  Category_Lingerie & Sleep Wear  \\\n",
       "8                                       0                               0   \n",
       "9                                       0                               0   \n",
       "11                                      0                               0   \n",
       "17                                      0                               0   \n",
       "20                                      0                               0   \n",
       "...                                   ...                             ...   \n",
       "443936                                  0                               0   \n",
       "443937                                  0                               0   \n",
       "443938                                  0                               0   \n",
       "443939                                  0                               0   \n",
       "443940                                  0                               0   \n",
       "\n",
       "        Category_Plus Size  Category_Sports Wear  ...  Brandsnew_WROGN  \\\n",
       "8                        0                     0  ...                0   \n",
       "9                        0                     0  ...                0   \n",
       "11                       0                     0  ...                0   \n",
       "17                       1                     0  ...                0   \n",
       "20                       0                     0  ...                0   \n",
       "...                    ...                   ...  ...              ...   \n",
       "443936                   0                     0  ...                0   \n",
       "443937                   0                     0  ...                0   \n",
       "443938                   0                     0  ...                0   \n",
       "443939                   0                     0  ...                0   \n",
       "443940                   0                     0  ...                0   \n",
       "\n",
       "        Brandsnew_XYXX  Brandsnew_ZALORA BASICS  Brandsnew_ZALORA WORK  \\\n",
       "8                    0                        0                      0   \n",
       "9                    0                        0                      0   \n",
       "11                   0                        0                      0   \n",
       "17                   0                        0                      0   \n",
       "20                   0                        0                      0   \n",
       "...                ...                      ...                    ...   \n",
       "443936               0                        0                      0   \n",
       "443937               0                        0                      0   \n",
       "443938               0                        0                      0   \n",
       "443939               0                        0                      0   \n",
       "443940               0                        0                      0   \n",
       "\n",
       "        Brandsnew_ZOLA  Brandsnew_Zivame  Brandsnew_all about you  \\\n",
       "8                    0                 0                        0   \n",
       "9                    0                 0                        0   \n",
       "11                   0                 0                        0   \n",
       "17                   0                 0                        0   \n",
       "20                   0                 0                        0   \n",
       "...                ...               ...                      ...   \n",
       "443936               0                 0                        0   \n",
       "443937               0                 0                        0   \n",
       "443938               0                 0                        0   \n",
       "443939               0                 0                        0   \n",
       "443940               0                 0                        0   \n",
       "\n",
       "        Brandsnew_ether  Brandsnew_max  Brandsnew_plusS  \n",
       "8                     0              0                0  \n",
       "9                     0              0                0  \n",
       "11                    0              0                0  \n",
       "17                    0              0                0  \n",
       "20                    0              0                0  \n",
       "...                 ...            ...              ...  \n",
       "443936                0              0                0  \n",
       "443937                0              0                0  \n",
       "443938                0              0                0  \n",
       "443939                0              0                0  \n",
       "443940                0              0                0  \n",
       "\n",
       "[526564 rows x 3813 columns]"
      ]
     },
     "execution_count": 144,
     "metadata": {},
     "output_type": "execute_result"
    }
   ],
   "source": [
    "X"
   ]
  },
  {
   "cell_type": "code",
   "execution_count": 145,
   "id": "3f0a8715",
   "metadata": {},
   "outputs": [
    {
     "data": {
      "text/plain": [
       "8         4.300000\n",
       "9         3.500000\n",
       "11        4.100000\n",
       "17        4.300000\n",
       "20        4.400000\n",
       "            ...   \n",
       "443936    4.094892\n",
       "443937    4.094892\n",
       "443938    4.094892\n",
       "443939    4.094892\n",
       "443940    4.094892\n",
       "Name: Ratings, Length: 526564, dtype: float64"
      ]
     },
     "execution_count": 145,
     "metadata": {},
     "output_type": "execute_result"
    }
   ],
   "source": [
    "y"
   ]
  },
  {
   "cell_type": "code",
   "execution_count": 146,
   "id": "ec5d0761",
   "metadata": {},
   "outputs": [],
   "source": [
    "from sklearn.model_selection import train_test_split\n",
    "\n",
    "# Split the data into training and test sets\n",
    "X_train, X_test, y_train, y_test = train_test_split(X, y, test_size=0.33, train_size=0.67, random_state=42)"
   ]
  },
  {
   "cell_type": "code",
   "execution_count": 147,
   "id": "e2f26bd8",
   "metadata": {},
   "outputs": [],
   "source": [
    "# Split the data into training and test sets\n",
    "X_train_2, X_test_2, y_train_2, y_test_2 = train_test_split(X_train, y_train, test_size=0.5, train_size=0.5, random_state=42)"
   ]
  },
  {
   "cell_type": "code",
   "execution_count": 148,
   "id": "544168db",
   "metadata": {},
   "outputs": [
    {
     "data": {
      "text/html": [
       "<style>#sk-container-id-7 {color: black;background-color: white;}#sk-container-id-7 pre{padding: 0;}#sk-container-id-7 div.sk-toggleable {background-color: white;}#sk-container-id-7 label.sk-toggleable__label {cursor: pointer;display: block;width: 100%;margin-bottom: 0;padding: 0.3em;box-sizing: border-box;text-align: center;}#sk-container-id-7 label.sk-toggleable__label-arrow:before {content: \"▸\";float: left;margin-right: 0.25em;color: #696969;}#sk-container-id-7 label.sk-toggleable__label-arrow:hover:before {color: black;}#sk-container-id-7 div.sk-estimator:hover label.sk-toggleable__label-arrow:before {color: black;}#sk-container-id-7 div.sk-toggleable__content {max-height: 0;max-width: 0;overflow: hidden;text-align: left;background-color: #f0f8ff;}#sk-container-id-7 div.sk-toggleable__content pre {margin: 0.2em;color: black;border-radius: 0.25em;background-color: #f0f8ff;}#sk-container-id-7 input.sk-toggleable__control:checked~div.sk-toggleable__content {max-height: 200px;max-width: 100%;overflow: auto;}#sk-container-id-7 input.sk-toggleable__control:checked~label.sk-toggleable__label-arrow:before {content: \"▾\";}#sk-container-id-7 div.sk-estimator input.sk-toggleable__control:checked~label.sk-toggleable__label {background-color: #d4ebff;}#sk-container-id-7 div.sk-label input.sk-toggleable__control:checked~label.sk-toggleable__label {background-color: #d4ebff;}#sk-container-id-7 input.sk-hidden--visually {border: 0;clip: rect(1px 1px 1px 1px);clip: rect(1px, 1px, 1px, 1px);height: 1px;margin: -1px;overflow: hidden;padding: 0;position: absolute;width: 1px;}#sk-container-id-7 div.sk-estimator {font-family: monospace;background-color: #f0f8ff;border: 1px dotted black;border-radius: 0.25em;box-sizing: border-box;margin-bottom: 0.5em;}#sk-container-id-7 div.sk-estimator:hover {background-color: #d4ebff;}#sk-container-id-7 div.sk-parallel-item::after {content: \"\";width: 100%;border-bottom: 1px solid gray;flex-grow: 1;}#sk-container-id-7 div.sk-label:hover label.sk-toggleable__label {background-color: #d4ebff;}#sk-container-id-7 div.sk-serial::before {content: \"\";position: absolute;border-left: 1px solid gray;box-sizing: border-box;top: 0;bottom: 0;left: 50%;z-index: 0;}#sk-container-id-7 div.sk-serial {display: flex;flex-direction: column;align-items: center;background-color: white;padding-right: 0.2em;padding-left: 0.2em;position: relative;}#sk-container-id-7 div.sk-item {position: relative;z-index: 1;}#sk-container-id-7 div.sk-parallel {display: flex;align-items: stretch;justify-content: center;background-color: white;position: relative;}#sk-container-id-7 div.sk-item::before, #sk-container-id-7 div.sk-parallel-item::before {content: \"\";position: absolute;border-left: 1px solid gray;box-sizing: border-box;top: 0;bottom: 0;left: 50%;z-index: -1;}#sk-container-id-7 div.sk-parallel-item {display: flex;flex-direction: column;z-index: 1;position: relative;background-color: white;}#sk-container-id-7 div.sk-parallel-item:first-child::after {align-self: flex-end;width: 50%;}#sk-container-id-7 div.sk-parallel-item:last-child::after {align-self: flex-start;width: 50%;}#sk-container-id-7 div.sk-parallel-item:only-child::after {width: 0;}#sk-container-id-7 div.sk-dashed-wrapped {border: 1px dashed gray;margin: 0 0.4em 0.5em 0.4em;box-sizing: border-box;padding-bottom: 0.4em;background-color: white;}#sk-container-id-7 div.sk-label label {font-family: monospace;font-weight: bold;display: inline-block;line-height: 1.2em;}#sk-container-id-7 div.sk-label-container {text-align: center;}#sk-container-id-7 div.sk-container {/* jupyter's `normalize.less` sets `[hidden] { display: none; }` but bootstrap.min.css set `[hidden] { display: none !important; }` so we also need the `!important` here to be able to override the default hidden behavior on the sphinx rendered scikit-learn.org. See: https://github.com/scikit-learn/scikit-learn/issues/21755 */display: inline-block !important;position: relative;}#sk-container-id-7 div.sk-text-repr-fallback {display: none;}</style><div id=\"sk-container-id-7\" class=\"sk-top-container\"><div class=\"sk-text-repr-fallback\"><pre>SGDRegressor()</pre><b>In a Jupyter environment, please rerun this cell to show the HTML representation or trust the notebook. <br />On GitHub, the HTML representation is unable to render, please try loading this page with nbviewer.org.</b></div><div class=\"sk-container\" hidden><div class=\"sk-item\"><div class=\"sk-estimator sk-toggleable\"><input class=\"sk-toggleable__control sk-hidden--visually\" id=\"sk-estimator-id-7\" type=\"checkbox\" checked><label for=\"sk-estimator-id-7\" class=\"sk-toggleable__label sk-toggleable__label-arrow\">SGDRegressor</label><div class=\"sk-toggleable__content\"><pre>SGDRegressor()</pre></div></div></div></div></div>"
      ],
      "text/plain": [
       "SGDRegressor()"
      ]
     },
     "execution_count": 148,
     "metadata": {},
     "output_type": "execute_result"
    }
   ],
   "source": [
    "from sklearn.linear_model import SGDRegressor\n",
    "# Initialising \n",
    "reg = SGDRegressor(loss='squared_error',\n",
    "    penalty='l2',\n",
    "    alpha=0.0001,\n",
    "    l1_ratio=0.15,\n",
    "    fit_intercept=True,\n",
    "    max_iter=1000,\n",
    "    tol=0.001,\n",
    "    shuffle=True,\n",
    "    verbose=0,\n",
    "    epsilon=0.1,\n",
    "    random_state=None)\n",
    "\n",
    "# Training\n",
    "reg.fit(X_train_2, y_train_2)"
   ]
  },
  {
   "cell_type": "markdown",
   "id": "dda9330f",
   "metadata": {},
   "source": [
    "### Predict on the test set\n"
   ]
  },
  {
   "cell_type": "code",
   "execution_count": 149,
   "id": "ce1bc588",
   "metadata": {},
   "outputs": [],
   "source": [
    "pred_sdg1 = reg.predict(X_test_2)\n"
   ]
  },
  {
   "cell_type": "code",
   "execution_count": 150,
   "id": "81990397",
   "metadata": {},
   "outputs": [
    {
     "data": {
      "text/plain": [
       "2.6141738743729024e+28"
      ]
     },
     "execution_count": 150,
     "metadata": {},
     "output_type": "execute_result"
    }
   ],
   "source": [
    "from sklearn.metrics import mean_squared_error # importing mse\n",
    "\n",
    "mean_squared_error(y_test_2, pred_sdg1) #mse"
   ]
  },
  {
   "cell_type": "code",
   "execution_count": 152,
   "id": "400b38b8",
   "metadata": {},
   "outputs": [
    {
     "data": {
      "text/plain": [
       "2.6141738743729024e+28"
      ]
     },
     "execution_count": 152,
     "metadata": {},
     "output_type": "execute_result"
    }
   ],
   "source": [
    "mse_sdg1=mean_squared_error(y_test_2, pred_sdg1) #mse\n",
    "mse_sdg1"
   ]
  },
  {
   "cell_type": "code",
   "execution_count": 153,
   "id": "44dfffd8",
   "metadata": {},
   "outputs": [
    {
     "data": {
      "text/plain": [
       "161684070779186.6"
      ]
     },
     "execution_count": 153,
     "metadata": {},
     "output_type": "execute_result"
    }
   ],
   "source": [
    "import math \n",
    "\n",
    "math.sqrt(mean_squared_error(y_test_2, pred_sdg1))"
   ]
  },
  {
   "cell_type": "code",
   "execution_count": 154,
   "id": "68c951cb",
   "metadata": {},
   "outputs": [
    {
     "data": {
      "text/plain": [
       "161684070779186.6"
      ]
     },
     "execution_count": 154,
     "metadata": {},
     "output_type": "execute_result"
    }
   ],
   "source": [
    "rmse_sdg1=math.sqrt(mean_squared_error(y_test_2, pred_sdg1))\n",
    "rmse_sdg1"
   ]
  },
  {
   "cell_type": "code",
   "execution_count": 157,
   "id": "e07dfb38",
   "metadata": {},
   "outputs": [],
   "source": [
    "from joblib import load,dump # importing load and dump\n"
   ]
  },
  {
   "cell_type": "code",
   "execution_count": 158,
   "id": "d90a8ad4",
   "metadata": {},
   "outputs": [
    {
     "data": {
      "text/plain": [
       "['SgdRegressor.pkl']"
      ]
     },
     "execution_count": 158,
     "metadata": {},
     "output_type": "execute_result"
    }
   ],
   "source": [
    "dump(reg,'SgdRegressor.pkl') # dumping my model\n"
   ]
  },
  {
   "cell_type": "code",
   "execution_count": 159,
   "id": "c9ea1212",
   "metadata": {},
   "outputs": [
    {
     "data": {
      "text/html": [
       "<style>#sk-container-id-8 {color: black;background-color: white;}#sk-container-id-8 pre{padding: 0;}#sk-container-id-8 div.sk-toggleable {background-color: white;}#sk-container-id-8 label.sk-toggleable__label {cursor: pointer;display: block;width: 100%;margin-bottom: 0;padding: 0.3em;box-sizing: border-box;text-align: center;}#sk-container-id-8 label.sk-toggleable__label-arrow:before {content: \"▸\";float: left;margin-right: 0.25em;color: #696969;}#sk-container-id-8 label.sk-toggleable__label-arrow:hover:before {color: black;}#sk-container-id-8 div.sk-estimator:hover label.sk-toggleable__label-arrow:before {color: black;}#sk-container-id-8 div.sk-toggleable__content {max-height: 0;max-width: 0;overflow: hidden;text-align: left;background-color: #f0f8ff;}#sk-container-id-8 div.sk-toggleable__content pre {margin: 0.2em;color: black;border-radius: 0.25em;background-color: #f0f8ff;}#sk-container-id-8 input.sk-toggleable__control:checked~div.sk-toggleable__content {max-height: 200px;max-width: 100%;overflow: auto;}#sk-container-id-8 input.sk-toggleable__control:checked~label.sk-toggleable__label-arrow:before {content: \"▾\";}#sk-container-id-8 div.sk-estimator input.sk-toggleable__control:checked~label.sk-toggleable__label {background-color: #d4ebff;}#sk-container-id-8 div.sk-label input.sk-toggleable__control:checked~label.sk-toggleable__label {background-color: #d4ebff;}#sk-container-id-8 input.sk-hidden--visually {border: 0;clip: rect(1px 1px 1px 1px);clip: rect(1px, 1px, 1px, 1px);height: 1px;margin: -1px;overflow: hidden;padding: 0;position: absolute;width: 1px;}#sk-container-id-8 div.sk-estimator {font-family: monospace;background-color: #f0f8ff;border: 1px dotted black;border-radius: 0.25em;box-sizing: border-box;margin-bottom: 0.5em;}#sk-container-id-8 div.sk-estimator:hover {background-color: #d4ebff;}#sk-container-id-8 div.sk-parallel-item::after {content: \"\";width: 100%;border-bottom: 1px solid gray;flex-grow: 1;}#sk-container-id-8 div.sk-label:hover label.sk-toggleable__label {background-color: #d4ebff;}#sk-container-id-8 div.sk-serial::before {content: \"\";position: absolute;border-left: 1px solid gray;box-sizing: border-box;top: 0;bottom: 0;left: 50%;z-index: 0;}#sk-container-id-8 div.sk-serial {display: flex;flex-direction: column;align-items: center;background-color: white;padding-right: 0.2em;padding-left: 0.2em;position: relative;}#sk-container-id-8 div.sk-item {position: relative;z-index: 1;}#sk-container-id-8 div.sk-parallel {display: flex;align-items: stretch;justify-content: center;background-color: white;position: relative;}#sk-container-id-8 div.sk-item::before, #sk-container-id-8 div.sk-parallel-item::before {content: \"\";position: absolute;border-left: 1px solid gray;box-sizing: border-box;top: 0;bottom: 0;left: 50%;z-index: -1;}#sk-container-id-8 div.sk-parallel-item {display: flex;flex-direction: column;z-index: 1;position: relative;background-color: white;}#sk-container-id-8 div.sk-parallel-item:first-child::after {align-self: flex-end;width: 50%;}#sk-container-id-8 div.sk-parallel-item:last-child::after {align-self: flex-start;width: 50%;}#sk-container-id-8 div.sk-parallel-item:only-child::after {width: 0;}#sk-container-id-8 div.sk-dashed-wrapped {border: 1px dashed gray;margin: 0 0.4em 0.5em 0.4em;box-sizing: border-box;padding-bottom: 0.4em;background-color: white;}#sk-container-id-8 div.sk-label label {font-family: monospace;font-weight: bold;display: inline-block;line-height: 1.2em;}#sk-container-id-8 div.sk-label-container {text-align: center;}#sk-container-id-8 div.sk-container {/* jupyter's `normalize.less` sets `[hidden] { display: none; }` but bootstrap.min.css set `[hidden] { display: none !important; }` so we also need the `!important` here to be able to override the default hidden behavior on the sphinx rendered scikit-learn.org. See: https://github.com/scikit-learn/scikit-learn/issues/21755 */display: inline-block !important;position: relative;}#sk-container-id-8 div.sk-text-repr-fallback {display: none;}</style><div id=\"sk-container-id-8\" class=\"sk-top-container\"><div class=\"sk-text-repr-fallback\"><pre>SGDRegressor()</pre><b>In a Jupyter environment, please rerun this cell to show the HTML representation or trust the notebook. <br />On GitHub, the HTML representation is unable to render, please try loading this page with nbviewer.org.</b></div><div class=\"sk-container\" hidden><div class=\"sk-item\"><div class=\"sk-estimator sk-toggleable\"><input class=\"sk-toggleable__control sk-hidden--visually\" id=\"sk-estimator-id-8\" type=\"checkbox\" checked><label for=\"sk-estimator-id-8\" class=\"sk-toggleable__label sk-toggleable__label-arrow\">SGDRegressor</label><div class=\"sk-toggleable__content\"><pre>SGDRegressor()</pre></div></div></div></div></div>"
      ],
      "text/plain": [
       "SGDRegressor()"
      ]
     },
     "execution_count": 159,
     "metadata": {},
     "output_type": "execute_result"
    }
   ],
   "source": [
    "loaded_model = load('SgdRegressor.pkl')\n",
    "loaded_model"
   ]
  },
  {
   "cell_type": "code",
   "execution_count": 160,
   "id": "4e8f5bec",
   "metadata": {},
   "outputs": [],
   "source": [
    "loaded_model_trained1 = loaded_model.partial_fit(X_train,y_train)\n"
   ]
  },
  {
   "cell_type": "code",
   "execution_count": 164,
   "id": "a8e9bc8c",
   "metadata": {},
   "outputs": [
    {
     "data": {
      "text/html": [
       "<style>#sk-container-id-10 {color: black;background-color: white;}#sk-container-id-10 pre{padding: 0;}#sk-container-id-10 div.sk-toggleable {background-color: white;}#sk-container-id-10 label.sk-toggleable__label {cursor: pointer;display: block;width: 100%;margin-bottom: 0;padding: 0.3em;box-sizing: border-box;text-align: center;}#sk-container-id-10 label.sk-toggleable__label-arrow:before {content: \"▸\";float: left;margin-right: 0.25em;color: #696969;}#sk-container-id-10 label.sk-toggleable__label-arrow:hover:before {color: black;}#sk-container-id-10 div.sk-estimator:hover label.sk-toggleable__label-arrow:before {color: black;}#sk-container-id-10 div.sk-toggleable__content {max-height: 0;max-width: 0;overflow: hidden;text-align: left;background-color: #f0f8ff;}#sk-container-id-10 div.sk-toggleable__content pre {margin: 0.2em;color: black;border-radius: 0.25em;background-color: #f0f8ff;}#sk-container-id-10 input.sk-toggleable__control:checked~div.sk-toggleable__content {max-height: 200px;max-width: 100%;overflow: auto;}#sk-container-id-10 input.sk-toggleable__control:checked~label.sk-toggleable__label-arrow:before {content: \"▾\";}#sk-container-id-10 div.sk-estimator input.sk-toggleable__control:checked~label.sk-toggleable__label {background-color: #d4ebff;}#sk-container-id-10 div.sk-label input.sk-toggleable__control:checked~label.sk-toggleable__label {background-color: #d4ebff;}#sk-container-id-10 input.sk-hidden--visually {border: 0;clip: rect(1px 1px 1px 1px);clip: rect(1px, 1px, 1px, 1px);height: 1px;margin: -1px;overflow: hidden;padding: 0;position: absolute;width: 1px;}#sk-container-id-10 div.sk-estimator {font-family: monospace;background-color: #f0f8ff;border: 1px dotted black;border-radius: 0.25em;box-sizing: border-box;margin-bottom: 0.5em;}#sk-container-id-10 div.sk-estimator:hover {background-color: #d4ebff;}#sk-container-id-10 div.sk-parallel-item::after {content: \"\";width: 100%;border-bottom: 1px solid gray;flex-grow: 1;}#sk-container-id-10 div.sk-label:hover label.sk-toggleable__label {background-color: #d4ebff;}#sk-container-id-10 div.sk-serial::before {content: \"\";position: absolute;border-left: 1px solid gray;box-sizing: border-box;top: 0;bottom: 0;left: 50%;z-index: 0;}#sk-container-id-10 div.sk-serial {display: flex;flex-direction: column;align-items: center;background-color: white;padding-right: 0.2em;padding-left: 0.2em;position: relative;}#sk-container-id-10 div.sk-item {position: relative;z-index: 1;}#sk-container-id-10 div.sk-parallel {display: flex;align-items: stretch;justify-content: center;background-color: white;position: relative;}#sk-container-id-10 div.sk-item::before, #sk-container-id-10 div.sk-parallel-item::before {content: \"\";position: absolute;border-left: 1px solid gray;box-sizing: border-box;top: 0;bottom: 0;left: 50%;z-index: -1;}#sk-container-id-10 div.sk-parallel-item {display: flex;flex-direction: column;z-index: 1;position: relative;background-color: white;}#sk-container-id-10 div.sk-parallel-item:first-child::after {align-self: flex-end;width: 50%;}#sk-container-id-10 div.sk-parallel-item:last-child::after {align-self: flex-start;width: 50%;}#sk-container-id-10 div.sk-parallel-item:only-child::after {width: 0;}#sk-container-id-10 div.sk-dashed-wrapped {border: 1px dashed gray;margin: 0 0.4em 0.5em 0.4em;box-sizing: border-box;padding-bottom: 0.4em;background-color: white;}#sk-container-id-10 div.sk-label label {font-family: monospace;font-weight: bold;display: inline-block;line-height: 1.2em;}#sk-container-id-10 div.sk-label-container {text-align: center;}#sk-container-id-10 div.sk-container {/* jupyter's `normalize.less` sets `[hidden] { display: none; }` but bootstrap.min.css set `[hidden] { display: none !important; }` so we also need the `!important` here to be able to override the default hidden behavior on the sphinx rendered scikit-learn.org. See: https://github.com/scikit-learn/scikit-learn/issues/21755 */display: inline-block !important;position: relative;}#sk-container-id-10 div.sk-text-repr-fallback {display: none;}</style><div id=\"sk-container-id-10\" class=\"sk-top-container\"><div class=\"sk-text-repr-fallback\"><pre>SGDRegressor()</pre><b>In a Jupyter environment, please rerun this cell to show the HTML representation or trust the notebook. <br />On GitHub, the HTML representation is unable to render, please try loading this page with nbviewer.org.</b></div><div class=\"sk-container\" hidden><div class=\"sk-item\"><div class=\"sk-estimator sk-toggleable\"><input class=\"sk-toggleable__control sk-hidden--visually\" id=\"sk-estimator-id-10\" type=\"checkbox\" checked><label for=\"sk-estimator-id-10\" class=\"sk-toggleable__label sk-toggleable__label-arrow\">SGDRegressor</label><div class=\"sk-toggleable__content\"><pre>SGDRegressor()</pre></div></div></div></div></div>"
      ],
      "text/plain": [
       "SGDRegressor()"
      ]
     },
     "execution_count": 164,
     "metadata": {},
     "output_type": "execute_result"
    }
   ],
   "source": [
    "loaded_model_trained1\n"
   ]
  },
  {
   "cell_type": "code",
   "execution_count": 165,
   "id": "90583508",
   "metadata": {},
   "outputs": [
    {
     "data": {
      "text/plain": [
       "array([2.60375328e+14, 6.61049174e+14, 1.85824590e+14, ...,\n",
       "       4.36580382e+14, 4.04556735e+14, 1.66509523e+14])"
      ]
     },
     "execution_count": 165,
     "metadata": {},
     "output_type": "execute_result"
    }
   ],
   "source": [
    "loaded_model_trained1.predict(X_test_2)\n"
   ]
  },
  {
   "cell_type": "code",
   "execution_count": 166,
   "id": "b8c0d729",
   "metadata": {},
   "outputs": [],
   "source": [
    "loaded_model_pred = loaded_model_trained1.predict(X_test_2)\n"
   ]
  },
  {
   "cell_type": "code",
   "execution_count": 167,
   "id": "ed9e84ce",
   "metadata": {},
   "outputs": [
    {
     "data": {
      "text/plain": [
       "3.453191779626094e+29"
      ]
     },
     "execution_count": 167,
     "metadata": {},
     "output_type": "execute_result"
    }
   ],
   "source": [
    "from sklearn.metrics import mean_squared_error\n",
    "\n",
    "mean_squared_error(y_test_2, loaded_model_pred)"
   ]
  },
  {
   "cell_type": "code",
   "execution_count": 168,
   "id": "a91b06f9",
   "metadata": {},
   "outputs": [
    {
     "data": {
      "text/plain": [
       "3.453191779626094e+29"
      ]
     },
     "execution_count": 168,
     "metadata": {},
     "output_type": "execute_result"
    }
   ],
   "source": [
    "mse_sdg2=mean_squared_error(y_test_2, loaded_model_pred)\n",
    "mse_sdg2"
   ]
  },
  {
   "cell_type": "code",
   "execution_count": 169,
   "id": "dbaccf29",
   "metadata": {},
   "outputs": [
    {
     "data": {
      "text/plain": [
       "587638645736144.1"
      ]
     },
     "execution_count": 169,
     "metadata": {},
     "output_type": "execute_result"
    }
   ],
   "source": [
    "import math \n",
    "\n",
    "math.sqrt(mean_squared_error(y_test_2, loaded_model_pred))"
   ]
  },
  {
   "cell_type": "code",
   "execution_count": 172,
   "id": "5217df61",
   "metadata": {},
   "outputs": [
    {
     "data": {
      "text/plain": [
       "587638645736144.1"
      ]
     },
     "execution_count": 172,
     "metadata": {},
     "output_type": "execute_result"
    }
   ],
   "source": [
    "rmse_sdg2=math.sqrt(mean_squared_error(y_test_2, loaded_model_pred))\n",
    "rmse_sdg2"
   ]
  },
  {
   "cell_type": "code",
   "execution_count": 174,
   "id": "171b97e2",
   "metadata": {},
   "outputs": [
    {
     "name": "stderr",
     "output_type": "stream",
     "text": [
      "2023/12/26 16:39:07 WARNING mlflow.models.model: Logging model metadata to the tracking server has failed. The model artifacts have been logged successfully under mlflow-artifacts:/717650396813744181/2534232b72dd4abbb674eb9fef2c3c65/artifacts. Set logging level to DEBUG via `logging.getLogger(\"mlflow\").setLevel(logging.DEBUG)` to see the full traceback.\n",
      "Successfully registered model 'SGDRegressor_model_2'.\n",
      "2023/12/26 16:39:07 INFO mlflow.store.model_registry.abstract_store: Waiting up to 300 seconds for model version to finish creation. Model name: SGDRegressor_model_2, version 1\n",
      "Created version '1' of model 'SGDRegressor_model_2'.\n"
     ]
    },
    {
     "ename": "RestException",
     "evalue": "INVALID_PARAMETER_VALUE: The run 2534232b72dd4abbb674eb9fef2c3c65 must be in 'active' lifecycle_stage.",
     "output_type": "error",
     "traceback": [
      "\u001b[1;31m---------------------------------------------------------------------------\u001b[0m",
      "\u001b[1;31mRestException\u001b[0m                             Traceback (most recent call last)",
      "Cell \u001b[1;32mIn[174], line 8\u001b[0m\n\u001b[0;32m      3\u001b[0m \u001b[38;5;28;01mfrom\u001b[39;00m \u001b[38;5;21;01msklearn\u001b[39;00m\u001b[38;5;21;01m.\u001b[39;00m\u001b[38;5;21;01mmetrics\u001b[39;00m \u001b[38;5;28;01mimport\u001b[39;00m mean_squared_error\n\u001b[0;32m      5\u001b[0m \u001b[38;5;66;03m# Assuming you have already trained your SGDRegressor model and stored it in 'reg'\u001b[39;00m\n\u001b[0;32m      6\u001b[0m \n\u001b[0;32m      7\u001b[0m \u001b[38;5;66;03m# Start an MLflow run\u001b[39;00m\n\u001b[1;32m----> 8\u001b[0m \u001b[38;5;28;01mwith\u001b[39;00m mlflow\u001b[38;5;241m.\u001b[39mstart_run():\n\u001b[0;32m      9\u001b[0m     \u001b[38;5;66;03m# Log the hyperparameters\u001b[39;00m\n\u001b[0;32m     10\u001b[0m     mlflow\u001b[38;5;241m.\u001b[39mlog_params({\n\u001b[0;32m     11\u001b[0m         \u001b[38;5;124m\"\u001b[39m\u001b[38;5;124mloss\u001b[39m\u001b[38;5;124m\"\u001b[39m: \u001b[38;5;124m'\u001b[39m\u001b[38;5;124msquared_error\u001b[39m\u001b[38;5;124m'\u001b[39m,\n\u001b[0;32m     12\u001b[0m         \u001b[38;5;124m\"\u001b[39m\u001b[38;5;124mpenalty\u001b[39m\u001b[38;5;124m\"\u001b[39m: \u001b[38;5;124m'\u001b[39m\u001b[38;5;124ml2\u001b[39m\u001b[38;5;124m'\u001b[39m,\n\u001b[1;32m   (...)\u001b[0m\n\u001b[0;32m     20\u001b[0m         \u001b[38;5;124m\"\u001b[39m\u001b[38;5;124mrandom_state\u001b[39m\u001b[38;5;124m\"\u001b[39m: \u001b[38;5;28;01mNone\u001b[39;00m\n\u001b[0;32m     21\u001b[0m     })\n\u001b[0;32m     23\u001b[0m     \u001b[38;5;66;03m# Log the metrics\u001b[39;00m\n",
      "File \u001b[1;32m~\\AppData\\Roaming\\Python\\Python310\\site-packages\\mlflow\\tracking\\fluent.py:190\u001b[0m, in \u001b[0;36mActiveRun.__exit__\u001b[1;34m(self, exc_type, exc_val, exc_tb)\u001b[0m\n\u001b[0;32m    188\u001b[0m \u001b[38;5;28;01mdef\u001b[39;00m \u001b[38;5;21m__exit__\u001b[39m(\u001b[38;5;28mself\u001b[39m, exc_type, exc_val, exc_tb):\n\u001b[0;32m    189\u001b[0m     status \u001b[38;5;241m=\u001b[39m RunStatus\u001b[38;5;241m.\u001b[39mFINISHED \u001b[38;5;28;01mif\u001b[39;00m exc_type \u001b[38;5;129;01mis\u001b[39;00m \u001b[38;5;28;01mNone\u001b[39;00m \u001b[38;5;28;01melse\u001b[39;00m RunStatus\u001b[38;5;241m.\u001b[39mFAILED\n\u001b[1;32m--> 190\u001b[0m     \u001b[43mend_run\u001b[49m\u001b[43m(\u001b[49m\u001b[43mRunStatus\u001b[49m\u001b[38;5;241;43m.\u001b[39;49m\u001b[43mto_string\u001b[49m\u001b[43m(\u001b[49m\u001b[43mstatus\u001b[49m\u001b[43m)\u001b[49m\u001b[43m)\u001b[49m\n\u001b[0;32m    191\u001b[0m     \u001b[38;5;28;01mreturn\u001b[39;00m exc_type \u001b[38;5;129;01mis\u001b[39;00m \u001b[38;5;28;01mNone\u001b[39;00m\n",
      "File \u001b[1;32m~\\AppData\\Roaming\\Python\\Python310\\site-packages\\mlflow\\tracking\\fluent.py:446\u001b[0m, in \u001b[0;36mend_run\u001b[1;34m(status)\u001b[0m\n\u001b[0;32m    444\u001b[0m run \u001b[38;5;241m=\u001b[39m _active_run_stack\u001b[38;5;241m.\u001b[39mpop()\n\u001b[0;32m    445\u001b[0m _last_active_run_id \u001b[38;5;241m=\u001b[39m run\u001b[38;5;241m.\u001b[39minfo\u001b[38;5;241m.\u001b[39mrun_id\n\u001b[1;32m--> 446\u001b[0m \u001b[43mMlflowClient\u001b[49m\u001b[43m(\u001b[49m\u001b[43m)\u001b[49m\u001b[38;5;241;43m.\u001b[39;49m\u001b[43mset_terminated\u001b[49m\u001b[43m(\u001b[49m\u001b[43m_last_active_run_id\u001b[49m\u001b[43m,\u001b[49m\u001b[43m \u001b[49m\u001b[43mstatus\u001b[49m\u001b[43m)\u001b[49m\n\u001b[0;32m    447\u001b[0m \u001b[38;5;28;01mif\u001b[39;00m _last_active_run_id \u001b[38;5;129;01min\u001b[39;00m run_id_to_system_metrics_monitor:\n\u001b[0;32m    448\u001b[0m     system_metrics_monitor \u001b[38;5;241m=\u001b[39m run_id_to_system_metrics_monitor\u001b[38;5;241m.\u001b[39mpop(_last_active_run_id)\n",
      "File \u001b[1;32m~\\AppData\\Roaming\\Python\\Python310\\site-packages\\mlflow\\tracking\\client.py:1916\u001b[0m, in \u001b[0;36mMlflowClient.set_terminated\u001b[1;34m(self, run_id, status, end_time)\u001b[0m\n\u001b[0;32m   1871\u001b[0m \u001b[38;5;28;01mdef\u001b[39;00m \u001b[38;5;21mset_terminated\u001b[39m(\n\u001b[0;32m   1872\u001b[0m     \u001b[38;5;28mself\u001b[39m, run_id: \u001b[38;5;28mstr\u001b[39m, status: Optional[\u001b[38;5;28mstr\u001b[39m] \u001b[38;5;241m=\u001b[39m \u001b[38;5;28;01mNone\u001b[39;00m, end_time: Optional[\u001b[38;5;28mint\u001b[39m] \u001b[38;5;241m=\u001b[39m \u001b[38;5;28;01mNone\u001b[39;00m\n\u001b[0;32m   1873\u001b[0m ) \u001b[38;5;241m-\u001b[39m\u001b[38;5;241m>\u001b[39m \u001b[38;5;28;01mNone\u001b[39;00m:\n\u001b[0;32m   1874\u001b[0m     \u001b[38;5;124;03m\"\"\"Set a run's status to terminated.\u001b[39;00m\n\u001b[0;32m   1875\u001b[0m \n\u001b[0;32m   1876\u001b[0m \u001b[38;5;124;03m    :param status: A string value of :py:class:`mlflow.entities.RunStatus`.\u001b[39;00m\n\u001b[1;32m   (...)\u001b[0m\n\u001b[0;32m   1914\u001b[0m \u001b[38;5;124;03m        status: KILLED\u001b[39;00m\n\u001b[0;32m   1915\u001b[0m \u001b[38;5;124;03m    \"\"\"\u001b[39;00m\n\u001b[1;32m-> 1916\u001b[0m     \u001b[38;5;28;43mself\u001b[39;49m\u001b[38;5;241;43m.\u001b[39;49m\u001b[43m_tracking_client\u001b[49m\u001b[38;5;241;43m.\u001b[39;49m\u001b[43mset_terminated\u001b[49m\u001b[43m(\u001b[49m\u001b[43mrun_id\u001b[49m\u001b[43m,\u001b[49m\u001b[43m \u001b[49m\u001b[43mstatus\u001b[49m\u001b[43m,\u001b[49m\u001b[43m \u001b[49m\u001b[43mend_time\u001b[49m\u001b[43m)\u001b[49m\n",
      "File \u001b[1;32m~\\AppData\\Roaming\\Python\\Python310\\site-packages\\mlflow\\tracking\\_tracking_service\\client.py:575\u001b[0m, in \u001b[0;36mTrackingServiceClient.set_terminated\u001b[1;34m(self, run_id, status, end_time)\u001b[0m\n\u001b[0;32m    573\u001b[0m end_time \u001b[38;5;241m=\u001b[39m end_time \u001b[38;5;28;01mif\u001b[39;00m end_time \u001b[38;5;28;01melse\u001b[39;00m get_current_time_millis()\n\u001b[0;32m    574\u001b[0m status \u001b[38;5;241m=\u001b[39m status \u001b[38;5;28;01mif\u001b[39;00m status \u001b[38;5;28;01melse\u001b[39;00m RunStatus\u001b[38;5;241m.\u001b[39mto_string(RunStatus\u001b[38;5;241m.\u001b[39mFINISHED)\n\u001b[1;32m--> 575\u001b[0m \u001b[38;5;28;43mself\u001b[39;49m\u001b[38;5;241;43m.\u001b[39;49m\u001b[43mstore\u001b[49m\u001b[38;5;241;43m.\u001b[39;49m\u001b[43mupdate_run_info\u001b[49m\u001b[43m(\u001b[49m\n\u001b[0;32m    576\u001b[0m \u001b[43m    \u001b[49m\u001b[43mrun_id\u001b[49m\u001b[43m,\u001b[49m\n\u001b[0;32m    577\u001b[0m \u001b[43m    \u001b[49m\u001b[43mrun_status\u001b[49m\u001b[38;5;241;43m=\u001b[39;49m\u001b[43mRunStatus\u001b[49m\u001b[38;5;241;43m.\u001b[39;49m\u001b[43mfrom_string\u001b[49m\u001b[43m(\u001b[49m\u001b[43mstatus\u001b[49m\u001b[43m)\u001b[49m\u001b[43m,\u001b[49m\n\u001b[0;32m    578\u001b[0m \u001b[43m    \u001b[49m\u001b[43mend_time\u001b[49m\u001b[38;5;241;43m=\u001b[39;49m\u001b[43mend_time\u001b[49m\u001b[43m,\u001b[49m\n\u001b[0;32m    579\u001b[0m \u001b[43m    \u001b[49m\u001b[43mrun_name\u001b[49m\u001b[38;5;241;43m=\u001b[39;49m\u001b[38;5;28;43;01mNone\u001b[39;49;00m\u001b[43m,\u001b[49m\n\u001b[0;32m    580\u001b[0m \u001b[43m\u001b[49m\u001b[43m)\u001b[49m\n",
      "File \u001b[1;32m~\\AppData\\Roaming\\Python\\Python310\\site-packages\\mlflow\\store\\tracking\\rest_store.py:151\u001b[0m, in \u001b[0;36mRestStore.update_run_info\u001b[1;34m(self, run_id, run_status, end_time, run_name)\u001b[0m\n\u001b[0;32m    141\u001b[0m \u001b[38;5;124;03m\"\"\"Updates the metadata of the specified run.\"\"\"\u001b[39;00m\n\u001b[0;32m    142\u001b[0m req_body \u001b[38;5;241m=\u001b[39m message_to_json(\n\u001b[0;32m    143\u001b[0m     UpdateRun(\n\u001b[0;32m    144\u001b[0m         run_uuid\u001b[38;5;241m=\u001b[39mrun_id,\n\u001b[1;32m   (...)\u001b[0m\n\u001b[0;32m    149\u001b[0m     )\n\u001b[0;32m    150\u001b[0m )\n\u001b[1;32m--> 151\u001b[0m response_proto \u001b[38;5;241m=\u001b[39m \u001b[38;5;28;43mself\u001b[39;49m\u001b[38;5;241;43m.\u001b[39;49m\u001b[43m_call_endpoint\u001b[49m\u001b[43m(\u001b[49m\u001b[43mUpdateRun\u001b[49m\u001b[43m,\u001b[49m\u001b[43m \u001b[49m\u001b[43mreq_body\u001b[49m\u001b[43m)\u001b[49m\n\u001b[0;32m    152\u001b[0m \u001b[38;5;28;01mreturn\u001b[39;00m RunInfo\u001b[38;5;241m.\u001b[39mfrom_proto(response_proto\u001b[38;5;241m.\u001b[39mrun_info)\n",
      "File \u001b[1;32m~\\AppData\\Roaming\\Python\\Python310\\site-packages\\mlflow\\store\\tracking\\rest_store.py:59\u001b[0m, in \u001b[0;36mRestStore._call_endpoint\u001b[1;34m(self, api, json_body)\u001b[0m\n\u001b[0;32m     57\u001b[0m endpoint, method \u001b[38;5;241m=\u001b[39m _METHOD_TO_INFO[api]\n\u001b[0;32m     58\u001b[0m response_proto \u001b[38;5;241m=\u001b[39m api\u001b[38;5;241m.\u001b[39mResponse()\n\u001b[1;32m---> 59\u001b[0m \u001b[38;5;28;01mreturn\u001b[39;00m \u001b[43mcall_endpoint\u001b[49m\u001b[43m(\u001b[49m\u001b[38;5;28;43mself\u001b[39;49m\u001b[38;5;241;43m.\u001b[39;49m\u001b[43mget_host_creds\u001b[49m\u001b[43m(\u001b[49m\u001b[43m)\u001b[49m\u001b[43m,\u001b[49m\u001b[43m \u001b[49m\u001b[43mendpoint\u001b[49m\u001b[43m,\u001b[49m\u001b[43m \u001b[49m\u001b[43mmethod\u001b[49m\u001b[43m,\u001b[49m\u001b[43m \u001b[49m\u001b[43mjson_body\u001b[49m\u001b[43m,\u001b[49m\u001b[43m \u001b[49m\u001b[43mresponse_proto\u001b[49m\u001b[43m)\u001b[49m\n",
      "File \u001b[1;32m~\\AppData\\Roaming\\Python\\Python310\\site-packages\\mlflow\\utils\\rest_utils.py:219\u001b[0m, in \u001b[0;36mcall_endpoint\u001b[1;34m(host_creds, endpoint, method, json_body, response_proto, extra_headers)\u001b[0m\n\u001b[0;32m    217\u001b[0m     call_kwargs[\u001b[38;5;124m\"\u001b[39m\u001b[38;5;124mjson\u001b[39m\u001b[38;5;124m\"\u001b[39m] \u001b[38;5;241m=\u001b[39m json_body\n\u001b[0;32m    218\u001b[0m     response \u001b[38;5;241m=\u001b[39m http_request(\u001b[38;5;241m*\u001b[39m\u001b[38;5;241m*\u001b[39mcall_kwargs)\n\u001b[1;32m--> 219\u001b[0m response \u001b[38;5;241m=\u001b[39m \u001b[43mverify_rest_response\u001b[49m\u001b[43m(\u001b[49m\u001b[43mresponse\u001b[49m\u001b[43m,\u001b[49m\u001b[43m \u001b[49m\u001b[43mendpoint\u001b[49m\u001b[43m)\u001b[49m\n\u001b[0;32m    220\u001b[0m js_dict \u001b[38;5;241m=\u001b[39m json\u001b[38;5;241m.\u001b[39mloads(response\u001b[38;5;241m.\u001b[39mtext)\n\u001b[0;32m    221\u001b[0m parse_dict(js_dict\u001b[38;5;241m=\u001b[39mjs_dict, message\u001b[38;5;241m=\u001b[39mresponse_proto)\n",
      "File \u001b[1;32m~\\AppData\\Roaming\\Python\\Python310\\site-packages\\mlflow\\utils\\rest_utils.py:151\u001b[0m, in \u001b[0;36mverify_rest_response\u001b[1;34m(response, endpoint)\u001b[0m\n\u001b[0;32m    149\u001b[0m \u001b[38;5;28;01mif\u001b[39;00m response\u001b[38;5;241m.\u001b[39mstatus_code \u001b[38;5;241m!=\u001b[39m \u001b[38;5;241m200\u001b[39m:\n\u001b[0;32m    150\u001b[0m     \u001b[38;5;28;01mif\u001b[39;00m _can_parse_as_json_object(response\u001b[38;5;241m.\u001b[39mtext):\n\u001b[1;32m--> 151\u001b[0m         \u001b[38;5;28;01mraise\u001b[39;00m RestException(json\u001b[38;5;241m.\u001b[39mloads(response\u001b[38;5;241m.\u001b[39mtext))\n\u001b[0;32m    152\u001b[0m     \u001b[38;5;28;01melse\u001b[39;00m:\n\u001b[0;32m    153\u001b[0m         base_msg \u001b[38;5;241m=\u001b[39m (\n\u001b[0;32m    154\u001b[0m             \u001b[38;5;124mf\u001b[39m\u001b[38;5;124m\"\u001b[39m\u001b[38;5;124mAPI request to endpoint \u001b[39m\u001b[38;5;132;01m{\u001b[39;00mendpoint\u001b[38;5;132;01m}\u001b[39;00m\u001b[38;5;124m \u001b[39m\u001b[38;5;124m\"\u001b[39m\n\u001b[0;32m    155\u001b[0m             \u001b[38;5;124mf\u001b[39m\u001b[38;5;124m\"\u001b[39m\u001b[38;5;124mfailed with error code \u001b[39m\u001b[38;5;132;01m{\u001b[39;00mresponse\u001b[38;5;241m.\u001b[39mstatus_code\u001b[38;5;132;01m}\u001b[39;00m\u001b[38;5;124m != 200\u001b[39m\u001b[38;5;124m\"\u001b[39m\n\u001b[0;32m    156\u001b[0m         )\n",
      "\u001b[1;31mRestException\u001b[0m: INVALID_PARAMETER_VALUE: The run 2534232b72dd4abbb674eb9fef2c3c65 must be in 'active' lifecycle_stage."
     ]
    }
   ],
   "source": [
    "import mlflow\n",
    "from mlflow.models import infer_signature\n",
    "from sklearn.metrics import mean_squared_error\n",
    "\n",
    "# Assuming you have already trained your SGDRegressor model and stored it in 'reg'\n",
    "\n",
    "# Start an MLflow run\n",
    "with mlflow.start_run():\n",
    "    # Log the hyperparameters\n",
    "    mlflow.log_params({\n",
    "        \"loss\": 'squared_error',\n",
    "        \"penalty\": 'l2',\n",
    "        \"alpha\": 0.0001,\n",
    "        \"l1_ratio\": 0.15,\n",
    "        \"fit_intercept\": True,\n",
    "        \"max_iter\": 1000,\n",
    "        \"tol\": 0.001,\n",
    "        \"shuffle\": True,\n",
    "        \"epsilon\": 0.1,\n",
    "        \"random_state\": None\n",
    "    })\n",
    "\n",
    "    # Log the metrics\n",
    "    mlflow.log_metrics({\n",
    "        \"MSE\": mse_sdg2,\n",
    "        \"RMSE\":rmse_sdg2,\n",
    "        \n",
    "    })\n",
    "\n",
    "    # Set a tag for additional information\n",
    "    mlflow.set_tag(\"Training Info\", \"SGDRegressor model2 for Myntra dataset\")\n",
    "\n",
    "    # Infer the model signature\n",
    "    signature = infer_signature(X_train, reg.predict(X_train))\n",
    "\n",
    "    # Log the model\n",
    "    model_info = mlflow.sklearn.log_model(\n",
    "        sk_model=reg,\n",
    "        artifact_path=\"sgd_model_demo\",\n",
    "        signature=signature,\n",
    "        input_example=X_train.head().to_dict(orient=\"records\"),  # Assuming X_train is a DataFrame\n",
    "        registered_model_name=\"SGDRegressor_model_2\",\n",
    "    )"
   ]
  },
  {
   "cell_type": "code",
   "execution_count": 74,
   "id": "50e7faaf",
   "metadata": {},
   "outputs": [
    {
     "data": {
      "text/plain": [
       "[<matplotlib.lines.Line2D at 0x22da41c4490>]"
      ]
     },
     "execution_count": 74,
     "metadata": {},
     "output_type": "execute_result"
    },
    {
     "data": {
      "image/png": "[encoded data removed]",
      "text/plain": [
       "<Figure size 640x480 with 1 Axes>"
      ]
     },
     "metadata": {},
     "output_type": "display_data"
    }
   ],
   "source": [
    "# Training on top, multiple epoch\n",
    "acc_list = []\n",
    "\n",
    "for i in range(1,500,50):\n",
    "    loaded_model_trained1 = loaded_model.partial_fit(X_train,y_train)\n",
    "    loaded_model_pred = loaded_model_trained1.predict(X_test_2)\n",
    "    \n",
    "    acc_list.append(math.sqrt(mean_squared_error(y_test_2, loaded_model_pred)))\n",
    "    \n",
    "x_range_temp = []\n",
    "for i in range(1,500,50):\n",
    "    x_range_temp.append(i)\n",
    "\n",
    "plt.plot(x_range_temp,acc_list)"
   ]
  },
  {
   "cell_type": "markdown",
   "id": "89e20d40",
   "metadata": {},
   "source": [
    "## PassiveAggressiveRegressor\n"
   ]
  },
  {
   "cell_type": "code",
   "execution_count": 76,
   "id": "c0631b6e",
   "metadata": {},
   "outputs": [],
   "source": [
    "from sklearn.linear_model import PassiveAggressiveRegressor\n"
   ]
  },
  {
   "cell_type": "code",
   "execution_count": 77,
   "id": "495a24e2",
   "metadata": {},
   "outputs": [
    {
     "data": {
      "text/html": [
       "<style>#sk-container-id-4 {color: black;background-color: white;}#sk-container-id-4 pre{padding: 0;}#sk-container-id-4 div.sk-toggleable {background-color: white;}#sk-container-id-4 label.sk-toggleable__label {cursor: pointer;display: block;width: 100%;margin-bottom: 0;padding: 0.3em;box-sizing: border-box;text-align: center;}#sk-container-id-4 label.sk-toggleable__label-arrow:before {content: \"▸\";float: left;margin-right: 0.25em;color: #696969;}#sk-container-id-4 label.sk-toggleable__label-arrow:hover:before {color: black;}#sk-container-id-4 div.sk-estimator:hover label.sk-toggleable__label-arrow:before {color: black;}#sk-container-id-4 div.sk-toggleable__content {max-height: 0;max-width: 0;overflow: hidden;text-align: left;background-color: #f0f8ff;}#sk-container-id-4 div.sk-toggleable__content pre {margin: 0.2em;color: black;border-radius: 0.25em;background-color: #f0f8ff;}#sk-container-id-4 input.sk-toggleable__control:checked~div.sk-toggleable__content {max-height: 200px;max-width: 100%;overflow: auto;}#sk-container-id-4 input.sk-toggleable__control:checked~label.sk-toggleable__label-arrow:before {content: \"▾\";}#sk-container-id-4 div.sk-estimator input.sk-toggleable__control:checked~label.sk-toggleable__label {background-color: #d4ebff;}#sk-container-id-4 div.sk-label input.sk-toggleable__control:checked~label.sk-toggleable__label {background-color: #d4ebff;}#sk-container-id-4 input.sk-hidden--visually {border: 0;clip: rect(1px 1px 1px 1px);clip: rect(1px, 1px, 1px, 1px);height: 1px;margin: -1px;overflow: hidden;padding: 0;position: absolute;width: 1px;}#sk-container-id-4 div.sk-estimator {font-family: monospace;background-color: #f0f8ff;border: 1px dotted black;border-radius: 0.25em;box-sizing: border-box;margin-bottom: 0.5em;}#sk-container-id-4 div.sk-estimator:hover {background-color: #d4ebff;}#sk-container-id-4 div.sk-parallel-item::after {content: \"\";width: 100%;border-bottom: 1px solid gray;flex-grow: 1;}#sk-container-id-4 div.sk-label:hover label.sk-toggleable__label {background-color: #d4ebff;}#sk-container-id-4 div.sk-serial::before {content: \"\";position: absolute;border-left: 1px solid gray;box-sizing: border-box;top: 0;bottom: 0;left: 50%;z-index: 0;}#sk-container-id-4 div.sk-serial {display: flex;flex-direction: column;align-items: center;background-color: white;padding-right: 0.2em;padding-left: 0.2em;position: relative;}#sk-container-id-4 div.sk-item {position: relative;z-index: 1;}#sk-container-id-4 div.sk-parallel {display: flex;align-items: stretch;justify-content: center;background-color: white;position: relative;}#sk-container-id-4 div.sk-item::before, #sk-container-id-4 div.sk-parallel-item::before {content: \"\";position: absolute;border-left: 1px solid gray;box-sizing: border-box;top: 0;bottom: 0;left: 50%;z-index: -1;}#sk-container-id-4 div.sk-parallel-item {display: flex;flex-direction: column;z-index: 1;position: relative;background-color: white;}#sk-container-id-4 div.sk-parallel-item:first-child::after {align-self: flex-end;width: 50%;}#sk-container-id-4 div.sk-parallel-item:last-child::after {align-self: flex-start;width: 50%;}#sk-container-id-4 div.sk-parallel-item:only-child::after {width: 0;}#sk-container-id-4 div.sk-dashed-wrapped {border: 1px dashed gray;margin: 0 0.4em 0.5em 0.4em;box-sizing: border-box;padding-bottom: 0.4em;background-color: white;}#sk-container-id-4 div.sk-label label {font-family: monospace;font-weight: bold;display: inline-block;line-height: 1.2em;}#sk-container-id-4 div.sk-label-container {text-align: center;}#sk-container-id-4 div.sk-container {/* jupyter's `normalize.less` sets `[hidden] { display: none; }` but bootstrap.min.css set `[hidden] { display: none !important; }` so we also need the `!important` here to be able to override the default hidden behavior on the sphinx rendered scikit-learn.org. See: https://github.com/scikit-learn/scikit-learn/issues/21755 */display: inline-block !important;position: relative;}#sk-container-id-4 div.sk-text-repr-fallback {display: none;}</style><div id=\"sk-container-id-4\" class=\"sk-top-container\"><div class=\"sk-text-repr-fallback\"><pre>PassiveAggressiveRegressor()</pre><b>In a Jupyter environment, please rerun this cell to show the HTML representation or trust the notebook. <br />On GitHub, the HTML representation is unable to render, please try loading this page with nbviewer.org.</b></div><div class=\"sk-container\" hidden><div class=\"sk-item\"><div class=\"sk-estimator sk-toggleable\"><input class=\"sk-toggleable__control sk-hidden--visually\" id=\"sk-estimator-id-4\" type=\"checkbox\" checked><label for=\"sk-estimator-id-4\" class=\"sk-toggleable__label sk-toggleable__label-arrow\">PassiveAggressiveRegressor</label><div class=\"sk-toggleable__content\"><pre>PassiveAggressiveRegressor()</pre></div></div></div></div></div>"
      ],
      "text/plain": [
       "PassiveAggressiveRegressor()"
      ]
     },
     "execution_count": 77,
     "metadata": {},
     "output_type": "execute_result"
    }
   ],
   "source": [
    "reg = PassiveAggressiveRegressor()\n",
    "reg.fit(X_train_2, y_train_2)"
   ]
  },
  {
   "cell_type": "code",
   "execution_count": null,
   "id": "6c619480",
   "metadata": {},
   "outputs": [],
   "source": [
    "## Predict on the test set\n"
   ]
  },
  {
   "cell_type": "code",
   "execution_count": 78,
   "id": "1f2d535c",
   "metadata": {},
   "outputs": [],
   "source": [
    "pred = reg.predict(X_test_2)\n"
   ]
  },
  {
   "cell_type": "code",
   "execution_count": 79,
   "id": "a23f0e40",
   "metadata": {},
   "outputs": [
    {
     "data": {
      "text/plain": [
       "0.28054210263387264"
      ]
     },
     "execution_count": 79,
     "metadata": {},
     "output_type": "execute_result"
    }
   ],
   "source": [
    "from sklearn.metrics import mean_squared_error\n",
    "\n",
    "mean_squared_error(y_test_2, pred) #mse"
   ]
  },
  {
   "cell_type": "code",
   "execution_count": 80,
   "id": "3f45c571",
   "metadata": {},
   "outputs": [
    {
     "data": {
      "text/plain": [
       "0.5296622533595089"
      ]
     },
     "execution_count": 80,
     "metadata": {},
     "output_type": "execute_result"
    }
   ],
   "source": [
    "import math \n",
    "\n",
    "math.sqrt(mean_squared_error(y_test_2, pred))"
   ]
  },
  {
   "cell_type": "code",
   "execution_count": 81,
   "id": "2ee2877b",
   "metadata": {},
   "outputs": [
    {
     "data": {
      "text/plain": [
       "['PARegressor.pkl']"
      ]
     },
     "execution_count": 81,
     "metadata": {},
     "output_type": "execute_result"
    }
   ],
   "source": [
    "from joblib import load,dump\n",
    "dump(reg,'PARegressor.pkl') # dumping the model"
   ]
  },
  {
   "cell_type": "code",
   "execution_count": 82,
   "id": "16253216",
   "metadata": {},
   "outputs": [],
   "source": [
    "loaded_model = load('PARegressor.pkl') # loading the model\n"
   ]
  },
  {
   "cell_type": "code",
   "execution_count": 83,
   "id": "07f05106",
   "metadata": {},
   "outputs": [
    {
     "data": {
      "text/html": [
       "<style>#sk-container-id-5 {color: black;background-color: white;}#sk-container-id-5 pre{padding: 0;}#sk-container-id-5 div.sk-toggleable {background-color: white;}#sk-container-id-5 label.sk-toggleable__label {cursor: pointer;display: block;width: 100%;margin-bottom: 0;padding: 0.3em;box-sizing: border-box;text-align: center;}#sk-container-id-5 label.sk-toggleable__label-arrow:before {content: \"▸\";float: left;margin-right: 0.25em;color: #696969;}#sk-container-id-5 label.sk-toggleable__label-arrow:hover:before {color: black;}#sk-container-id-5 div.sk-estimator:hover label.sk-toggleable__label-arrow:before {color: black;}#sk-container-id-5 div.sk-toggleable__content {max-height: 0;max-width: 0;overflow: hidden;text-align: left;background-color: #f0f8ff;}#sk-container-id-5 div.sk-toggleable__content pre {margin: 0.2em;color: black;border-radius: 0.25em;background-color: #f0f8ff;}#sk-container-id-5 input.sk-toggleable__control:checked~div.sk-toggleable__content {max-height: 200px;max-width: 100%;overflow: auto;}#sk-container-id-5 input.sk-toggleable__control:checked~label.sk-toggleable__label-arrow:before {content: \"▾\";}#sk-container-id-5 div.sk-estimator input.sk-toggleable__control:checked~label.sk-toggleable__label {background-color: #d4ebff;}#sk-container-id-5 div.sk-label input.sk-toggleable__control:checked~label.sk-toggleable__label {background-color: #d4ebff;}#sk-container-id-5 input.sk-hidden--visually {border: 0;clip: rect(1px 1px 1px 1px);clip: rect(1px, 1px, 1px, 1px);height: 1px;margin: -1px;overflow: hidden;padding: 0;position: absolute;width: 1px;}#sk-container-id-5 div.sk-estimator {font-family: monospace;background-color: #f0f8ff;border: 1px dotted black;border-radius: 0.25em;box-sizing: border-box;margin-bottom: 0.5em;}#sk-container-id-5 div.sk-estimator:hover {background-color: #d4ebff;}#sk-container-id-5 div.sk-parallel-item::after {content: \"\";width: 100%;border-bottom: 1px solid gray;flex-grow: 1;}#sk-container-id-5 div.sk-label:hover label.sk-toggleable__label {background-color: #d4ebff;}#sk-container-id-5 div.sk-serial::before {content: \"\";position: absolute;border-left: 1px solid gray;box-sizing: border-box;top: 0;bottom: 0;left: 50%;z-index: 0;}#sk-container-id-5 div.sk-serial {display: flex;flex-direction: column;align-items: center;background-color: white;padding-right: 0.2em;padding-left: 0.2em;position: relative;}#sk-container-id-5 div.sk-item {position: relative;z-index: 1;}#sk-container-id-5 div.sk-parallel {display: flex;align-items: stretch;justify-content: center;background-color: white;position: relative;}#sk-container-id-5 div.sk-item::before, #sk-container-id-5 div.sk-parallel-item::before {content: \"\";position: absolute;border-left: 1px solid gray;box-sizing: border-box;top: 0;bottom: 0;left: 50%;z-index: -1;}#sk-container-id-5 div.sk-parallel-item {display: flex;flex-direction: column;z-index: 1;position: relative;background-color: white;}#sk-container-id-5 div.sk-parallel-item:first-child::after {align-self: flex-end;width: 50%;}#sk-container-id-5 div.sk-parallel-item:last-child::after {align-self: flex-start;width: 50%;}#sk-container-id-5 div.sk-parallel-item:only-child::after {width: 0;}#sk-container-id-5 div.sk-dashed-wrapped {border: 1px dashed gray;margin: 0 0.4em 0.5em 0.4em;box-sizing: border-box;padding-bottom: 0.4em;background-color: white;}#sk-container-id-5 div.sk-label label {font-family: monospace;font-weight: bold;display: inline-block;line-height: 1.2em;}#sk-container-id-5 div.sk-label-container {text-align: center;}#sk-container-id-5 div.sk-container {/* jupyter's `normalize.less` sets `[hidden] { display: none; }` but bootstrap.min.css set `[hidden] { display: none !important; }` so we also need the `!important` here to be able to override the default hidden behavior on the sphinx rendered scikit-learn.org. See: https://github.com/scikit-learn/scikit-learn/issues/21755 */display: inline-block !important;position: relative;}#sk-container-id-5 div.sk-text-repr-fallback {display: none;}</style><div id=\"sk-container-id-5\" class=\"sk-top-container\"><div class=\"sk-text-repr-fallback\"><pre>PassiveAggressiveRegressor()</pre><b>In a Jupyter environment, please rerun this cell to show the HTML representation or trust the notebook. <br />On GitHub, the HTML representation is unable to render, please try loading this page with nbviewer.org.</b></div><div class=\"sk-container\" hidden><div class=\"sk-item\"><div class=\"sk-estimator sk-toggleable\"><input class=\"sk-toggleable__control sk-hidden--visually\" id=\"sk-estimator-id-5\" type=\"checkbox\" checked><label for=\"sk-estimator-id-5\" class=\"sk-toggleable__label sk-toggleable__label-arrow\">PassiveAggressiveRegressor</label><div class=\"sk-toggleable__content\"><pre>PassiveAggressiveRegressor()</pre></div></div></div></div></div>"
      ],
      "text/plain": [
       "PassiveAggressiveRegressor()"
      ]
     },
     "execution_count": 83,
     "metadata": {},
     "output_type": "execute_result"
    }
   ],
   "source": [
    "loaded_model"
   ]
  },
  {
   "cell_type": "code",
   "execution_count": 84,
   "id": "11e53511",
   "metadata": {},
   "outputs": [],
   "source": [
    "loaded_model_trained = loaded_model.partial_fit(X_train,y_train)\n"
   ]
  },
  {
   "cell_type": "code",
   "execution_count": 85,
   "id": "7282e77a",
   "metadata": {},
   "outputs": [
    {
     "data": {
      "text/html": [
       "<style>#sk-container-id-6 {color: black;background-color: white;}#sk-container-id-6 pre{padding: 0;}#sk-container-id-6 div.sk-toggleable {background-color: white;}#sk-container-id-6 label.sk-toggleable__label {cursor: pointer;display: block;width: 100%;margin-bottom: 0;padding: 0.3em;box-sizing: border-box;text-align: center;}#sk-container-id-6 label.sk-toggleable__label-arrow:before {content: \"▸\";float: left;margin-right: 0.25em;color: #696969;}#sk-container-id-6 label.sk-toggleable__label-arrow:hover:before {color: black;}#sk-container-id-6 div.sk-estimator:hover label.sk-toggleable__label-arrow:before {color: black;}#sk-container-id-6 div.sk-toggleable__content {max-height: 0;max-width: 0;overflow: hidden;text-align: left;background-color: #f0f8ff;}#sk-container-id-6 div.sk-toggleable__content pre {margin: 0.2em;color: black;border-radius: 0.25em;background-color: #f0f8ff;}#sk-container-id-6 input.sk-toggleable__control:checked~div.sk-toggleable__content {max-height: 200px;max-width: 100%;overflow: auto;}#sk-container-id-6 input.sk-toggleable__control:checked~label.sk-toggleable__label-arrow:before {content: \"▾\";}#sk-container-id-6 div.sk-estimator input.sk-toggleable__control:checked~label.sk-toggleable__label {background-color: #d4ebff;}#sk-container-id-6 div.sk-label input.sk-toggleable__control:checked~label.sk-toggleable__label {background-color: #d4ebff;}#sk-container-id-6 input.sk-hidden--visually {border: 0;clip: rect(1px 1px 1px 1px);clip: rect(1px, 1px, 1px, 1px);height: 1px;margin: -1px;overflow: hidden;padding: 0;position: absolute;width: 1px;}#sk-container-id-6 div.sk-estimator {font-family: monospace;background-color: #f0f8ff;border: 1px dotted black;border-radius: 0.25em;box-sizing: border-box;margin-bottom: 0.5em;}#sk-container-id-6 div.sk-estimator:hover {background-color: #d4ebff;}#sk-container-id-6 div.sk-parallel-item::after {content: \"\";width: 100%;border-bottom: 1px solid gray;flex-grow: 1;}#sk-container-id-6 div.sk-label:hover label.sk-toggleable__label {background-color: #d4ebff;}#sk-container-id-6 div.sk-serial::before {content: \"\";position: absolute;border-left: 1px solid gray;box-sizing: border-box;top: 0;bottom: 0;left: 50%;z-index: 0;}#sk-container-id-6 div.sk-serial {display: flex;flex-direction: column;align-items: center;background-color: white;padding-right: 0.2em;padding-left: 0.2em;position: relative;}#sk-container-id-6 div.sk-item {position: relative;z-index: 1;}#sk-container-id-6 div.sk-parallel {display: flex;align-items: stretch;justify-content: center;background-color: white;position: relative;}#sk-container-id-6 div.sk-item::before, #sk-container-id-6 div.sk-parallel-item::before {content: \"\";position: absolute;border-left: 1px solid gray;box-sizing: border-box;top: 0;bottom: 0;left: 50%;z-index: -1;}#sk-container-id-6 div.sk-parallel-item {display: flex;flex-direction: column;z-index: 1;position: relative;background-color: white;}#sk-container-id-6 div.sk-parallel-item:first-child::after {align-self: flex-end;width: 50%;}#sk-container-id-6 div.sk-parallel-item:last-child::after {align-self: flex-start;width: 50%;}#sk-container-id-6 div.sk-parallel-item:only-child::after {width: 0;}#sk-container-id-6 div.sk-dashed-wrapped {border: 1px dashed gray;margin: 0 0.4em 0.5em 0.4em;box-sizing: border-box;padding-bottom: 0.4em;background-color: white;}#sk-container-id-6 div.sk-label label {font-family: monospace;font-weight: bold;display: inline-block;line-height: 1.2em;}#sk-container-id-6 div.sk-label-container {text-align: center;}#sk-container-id-6 div.sk-container {/* jupyter's `normalize.less` sets `[hidden] { display: none; }` but bootstrap.min.css set `[hidden] { display: none !important; }` so we also need the `!important` here to be able to override the default hidden behavior on the sphinx rendered scikit-learn.org. See: https://github.com/scikit-learn/scikit-learn/issues/21755 */display: inline-block !important;position: relative;}#sk-container-id-6 div.sk-text-repr-fallback {display: none;}</style><div id=\"sk-container-id-6\" class=\"sk-top-container\"><div class=\"sk-text-repr-fallback\"><pre>PassiveAggressiveRegressor()</pre><b>In a Jupyter environment, please rerun this cell to show the HTML representation or trust the notebook. <br />On GitHub, the HTML representation is unable to render, please try loading this page with nbviewer.org.</b></div><div class=\"sk-container\" hidden><div class=\"sk-item\"><div class=\"sk-estimator sk-toggleable\"><input class=\"sk-toggleable__control sk-hidden--visually\" id=\"sk-estimator-id-6\" type=\"checkbox\" checked><label for=\"sk-estimator-id-6\" class=\"sk-toggleable__label sk-toggleable__label-arrow\">PassiveAggressiveRegressor</label><div class=\"sk-toggleable__content\"><pre>PassiveAggressiveRegressor()</pre></div></div></div></div></div>"
      ],
      "text/plain": [
       "PassiveAggressiveRegressor()"
      ]
     },
     "execution_count": 85,
     "metadata": {},
     "output_type": "execute_result"
    }
   ],
   "source": [
    "loaded_model_trained\n"
   ]
  },
  {
   "cell_type": "code",
   "execution_count": 86,
   "id": "e14ca70e",
   "metadata": {},
   "outputs": [
    {
     "data": {
      "text/plain": [
       "array([3.83222509, 3.79806865, 4.11958386, ..., 4.04663593, 4.03504266,\n",
       "       4.0806588 ])"
      ]
     },
     "execution_count": 86,
     "metadata": {},
     "output_type": "execute_result"
    }
   ],
   "source": [
    "loaded_model_trained.predict(X_test_2)\n"
   ]
  },
  {
   "cell_type": "code",
   "execution_count": 87,
   "id": "a64723f8",
   "metadata": {},
   "outputs": [],
   "source": [
    "loaded_model_pred = loaded_model_trained.predict(X_test_2)\n"
   ]
  },
  {
   "cell_type": "code",
   "execution_count": 88,
   "id": "933c75bd",
   "metadata": {},
   "outputs": [
    {
     "data": {
      "text/plain": [
       "0.29447919490006697"
      ]
     },
     "execution_count": 88,
     "metadata": {},
     "output_type": "execute_result"
    }
   ],
   "source": [
    "from sklearn.metrics import mean_squared_error\n",
    "\n",
    "mean_squared_error(y_test_2, loaded_model_pred) #mse"
   ]
  },
  {
   "cell_type": "code",
   "execution_count": 89,
   "id": "74c7e424",
   "metadata": {},
   "outputs": [
    {
     "data": {
      "text/plain": [
       "0.5426593728114045"
      ]
     },
     "execution_count": 89,
     "metadata": {},
     "output_type": "execute_result"
    }
   ],
   "source": [
    "import math \n",
    "\n",
    "math.sqrt(mean_squared_error(y_test_2, loaded_model_pred))"
   ]
  },
  {
   "cell_type": "code",
   "execution_count": null,
   "id": "93261491",
   "metadata": {},
   "outputs": [],
   "source": []
  },
  {
   "cell_type": "code",
   "execution_count": null,
   "id": "75554268",
   "metadata": {},
   "outputs": [],
   "source": []
  },
  {
   "cell_type": "code",
   "execution_count": null,
   "id": "2c424918",
   "metadata": {},
   "outputs": [],
   "source": []
  },
  {
   "cell_type": "code",
   "execution_count": null,
   "id": "0b2870ca",
   "metadata": {},
   "outputs": [],
   "source": []
  },
  {
   "cell_type": "code",
   "execution_count": null,
   "id": "9a57fe5a",
   "metadata": {},
   "outputs": [],
   "source": []
  },
  {
   "cell_type": "code",
   "execution_count": 9,
   "id": "1bc6611c",
   "metadata": {},
   "outputs": [],
   "source": [
    "import mlflow"
   ]
  },
  {
   "cell_type": "code",
   "execution_count": 10,
   "id": "243781dd",
   "metadata": {},
   "outputs": [],
   "source": [
    "mlflow.set_tracking_uri(uri=\"http://127.0.0.1:8080\")\n"
   ]
  },
  {
   "cell_type": "code",
   "execution_count": 11,
   "id": "b077e70e",
   "metadata": {},
   "outputs": [
    {
     "name": "stderr",
     "output_type": "stream",
     "text": [
      "2023/12/26 13:58:53 INFO mlflow.tracking.fluent: Experiment with name 'Myntra Dataset Modelling' does not exist. Creating a new experiment.\n"
     ]
    },
    {
     "data": {
      "text/plain": [
       "<Experiment: artifact_location='mlflow-artifacts:/717650396813744181', creation_time=1703579333168, experiment_id='717650396813744181', last_update_time=1703579333168, lifecycle_stage='active', name='Myntra Dataset Modelling', tags={}>"
      ]
     },
     "execution_count": 11,
     "metadata": {},
     "output_type": "execute_result"
    }
   ],
   "source": [
    "mlflow.set_experiment(\"Myntra Dataset Modelling\")"
   ]
  },
  {
   "cell_type": "code",
   "execution_count": 170,
   "id": "aad9e4cf",
   "metadata": {},
   "outputs": [
    {
     "name": "stderr",
     "output_type": "stream",
     "text": [
      "Registered model 'SGDRegressor_model_1' already exists. Creating a new version of this model...\n",
      "2023/12/26 16:33:21 INFO mlflow.store.model_registry.abstract_store: Waiting up to 300 seconds for model version to finish creation. Model name: SGDRegressor_model_1, version 4\n",
      "Created version '4' of model 'SGDRegressor_model_1'.\n"
     ]
    }
   ],
   "source": [
    "import mlflow\n",
    "from mlflow.models import infer_signature\n",
    "from sklearn.metrics import mean_squared_error\n",
    "\n",
    "# Assuming you have already trained your SGDRegressor model and stored it in 'reg'\n",
    "\n",
    "# Start an MLflow run\n",
    "with mlflow.start_run():\n",
    "    # Log the hyperparameters\n",
    "    mlflow.log_params({\n",
    "        \"loss\": 'squared_error',\n",
    "        \"penalty\": 'l2',\n",
    "        \"alpha\": 0.0001,\n",
    "        \"l1_ratio\": 0.15,\n",
    "        \"fit_intercept\": True,\n",
    "        \"max_iter\": 1000,\n",
    "        \"tol\": 0.001,\n",
    "        \"shuffle\": True,\n",
    "        \"epsilon\": 0.1,\n",
    "        \"random_state\": None\n",
    "    })\n",
    "\n",
    "    # Log the metrics\n",
    "    mlflow.log_metrics({\n",
    "        \"MSE\": mse_sdg1,\n",
    "        \"RMSE\":rmse_sdg1,\n",
    "        \n",
    "    })\n",
    "\n",
    "    # Set a tag for additional information\n",
    "    mlflow.set_tag(\"Training Info\", \"SGDRegressor model for Myntra dataset\")\n",
    "\n",
    "    # Infer the model signature\n",
    "    signature = infer_signature(X_train, reg.predict(X_train))\n",
    "\n",
    "    # Log the model\n",
    "    model_info = mlflow.sklearn.log_model(\n",
    "        sk_model=reg,\n",
    "        artifact_path=\"sgd_model_demo\",\n",
    "        signature=signature,\n",
    "        input_example=X_train.head().to_dict(orient=\"records\"),  # Assuming X_train is a DataFrame\n",
    "        registered_model_name=\"SGDRegressor_model_1\",\n",
    "    )"
   ]
  },
  {
   "cell_type": "code",
   "execution_count": null,
   "id": "1c439752",
   "metadata": {},
   "outputs": [],
   "source": []
  }
 ],
 "metadata": {
  "kernelspec": {
   "display_name": "Python 3 (ipykernel)",
   "language": "python",
   "name": "python3"
  },
  "language_info": {
   "codemirror_mode": {
    "name": "ipython",
    "version": 3
   },
   "file_extension": ".py",
   "mimetype": "text/x-python",
   "name": "python",
   "nbconvert_exporter": "python",
   "pygments_lexer": "ipython3",
   "version": "3.10.9"
  }
 },
 "nbformat": 4,
 "nbformat_minor": 5
}
